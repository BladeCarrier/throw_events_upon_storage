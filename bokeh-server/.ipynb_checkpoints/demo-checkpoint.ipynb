{
 "cells": [
  {
   "cell_type": "code",
   "execution_count": 3,
   "metadata": {
    "collapsed": false
   },
   "outputs": [
    {
     "data": {
      "text/plain": [
       "0"
      ]
     },
     "execution_count": 3,
     "metadata": {},
     "output_type": "execute_result"
    }
   ],
   "source": [
    "import os\n",
    "os.system(\"bokeh-server -m --ip 0.0.0.0 --port 7010 &\")\n"
   ]
  },
  {
   "cell_type": "code",
   "execution_count": 9,
   "metadata": {
    "collapsed": false,
    "scrolled": true
   },
   "outputs": [
    {
     "name": "stdout",
     "output_type": "stream",
     "text": [
      "initializing...\n",
      "preaparing widgets...\n",
      "publishing plots...\n"
     ]
    },
    {
     "data": {
      "text/html": [
       "<script\n",
       "    src=\"http://0.0.0.0:7010/bokeh/autoload.js/03a387f5-b341-4924-8f7d-8b0d8312dd77\"\n",
       "    id=\"03a387f5-b341-4924-8f7d-8b0d8312dd77\"\n",
       "    async=\"true\"\n",
       "    data-bokeh-data=\"server\"\n",
       "    data-bokeh-modelid=\"e61aafab-9566-4712-8824-c13bfe0c631c\"\n",
       "    data-bokeh-root-url=\"http://0.0.0.0:7010/\"\n",
       "    data-bokeh-docid=\"3ec04f0e-51aa-46a8-aafa-48f4c4eadf2b\"\n",
       "    \n",
       "    data-bokeh-docapikey=\"2936f552-84b7-4bf5-a629-457816bbc851\"\n",
       "    \n",
       "    data-bokeh-loglevel=\"info\"\n",
       "></script>"
      ]
     },
     "metadata": {},
     "output_type": "display_data"
    },
    {
     "data": {
      "text/html": [
       "<script\n",
       "    src=\"http://0.0.0.0:7010/bokeh/autoload.js/5dd08f7a-7043-41d0-99f5-fcf5ef9ca765\"\n",
       "    id=\"5dd08f7a-7043-41d0-99f5-fcf5ef9ca765\"\n",
       "    async=\"true\"\n",
       "    data-bokeh-data=\"server\"\n",
       "    data-bokeh-modelid=\"57859b59-c2aa-40a4-b752-03a70cfe188c\"\n",
       "    data-bokeh-root-url=\"http://0.0.0.0:7010/\"\n",
       "    data-bokeh-docid=\"3ec04f0e-51aa-46a8-aafa-48f4c4eadf2b\"\n",
       "    \n",
       "    data-bokeh-docapikey=\"2936f552-84b7-4bf5-a629-457816bbc851\"\n",
       "    \n",
       "    data-bokeh-loglevel=\"info\"\n",
       "></script>"
      ]
     },
     "metadata": {},
     "output_type": "display_data"
    },
    {
     "data": {
      "text/html": [
       "<script\n",
       "    src=\"http://0.0.0.0:7010/bokeh/autoload.js/48691a64-c8c4-4775-8fcc-8c0a2ea7cc68\"\n",
       "    id=\"48691a64-c8c4-4775-8fcc-8c0a2ea7cc68\"\n",
       "    async=\"true\"\n",
       "    data-bokeh-data=\"server\"\n",
       "    data-bokeh-modelid=\"fc4dfa80-255d-4897-a3b2-ecf3ae45f163\"\n",
       "    data-bokeh-root-url=\"http://0.0.0.0:7010/\"\n",
       "    data-bokeh-docid=\"3ec04f0e-51aa-46a8-aafa-48f4c4eadf2b\"\n",
       "    \n",
       "    data-bokeh-docapikey=\"2936f552-84b7-4bf5-a629-457816bbc851\"\n",
       "    \n",
       "    data-bokeh-loglevel=\"info\"\n",
       "></script>"
      ]
     },
     "metadata": {},
     "output_type": "display_data"
    },
    {
     "data": {
      "text/html": [
       "<script\n",
       "    src=\"http://0.0.0.0:7010/bokeh/autoload.js/3c581644-01cf-443d-9ff8-206e216ca40e\"\n",
       "    id=\"3c581644-01cf-443d-9ff8-206e216ca40e\"\n",
       "    async=\"true\"\n",
       "    data-bokeh-data=\"server\"\n",
       "    data-bokeh-modelid=\"929c4087-b414-4245-ba6d-e6c396901b91\"\n",
       "    data-bokeh-root-url=\"http://0.0.0.0:7010/\"\n",
       "    data-bokeh-docid=\"3ec04f0e-51aa-46a8-aafa-48f4c4eadf2b\"\n",
       "    \n",
       "    data-bokeh-docapikey=\"2936f552-84b7-4bf5-a629-457816bbc851\"\n",
       "    \n",
       "    data-bokeh-loglevel=\"info\"\n",
       "></script>"
      ]
     },
     "metadata": {},
     "output_type": "display_data"
    },
    {
     "name": "stdout",
     "output_type": "stream",
     "text": [
      "creating static links...\n",
      "saving widget scripts...\n",
      "dashboard dashboard1 ready. now updating...\n"
     ]
    },
    {
     "ename": "KeyboardInterrupt",
     "evalue": "",
     "output_type": "error",
     "traceback": [
      "\u001b[1;31m---------------------------------------------------------------------------\u001b[0m",
      "\u001b[1;31mKeyboardInterrupt\u001b[0m                         Traceback (most recent call last)",
      "\u001b[1;32m<ipython-input-9-c16e1dcaa4ab>\u001b[0m in \u001b[0;36m<module>\u001b[1;34m()\u001b[0m\n\u001b[1;32m----> 1\u001b[1;33m \u001b[0mexecfile\u001b[0m\u001b[1;33m(\u001b[0m\u001b[1;34m\"dashboards/demo1_dashboard.py\"\u001b[0m\u001b[1;33m)\u001b[0m\u001b[1;33m\u001b[0m\u001b[0m\n\u001b[0m",
      "\u001b[1;32m/notebooks/bokeh-server/dashboards/demo1_dashboard.py\u001b[0m in \u001b[0;36m<module>\u001b[1;34m()\u001b[0m\n\u001b[0;32m    138\u001b[0m \u001b[1;32mif\u001b[0m \u001b[0m__name__\u001b[0m \u001b[1;33m==\u001b[0m \u001b[1;34m\"__main__\"\u001b[0m\u001b[1;33m:\u001b[0m\u001b[1;33m\u001b[0m\u001b[0m\n\u001b[0;32m    139\u001b[0m     \u001b[0mprepare_widgets\u001b[0m\u001b[1;33m(\u001b[0m\u001b[1;33m)\u001b[0m\u001b[1;33m\u001b[0m\u001b[0m\n\u001b[1;32m--> 140\u001b[1;33m     \u001b[0mstart_updating\u001b[0m\u001b[1;33m(\u001b[0m\u001b[1;33m)\u001b[0m\u001b[1;33m\u001b[0m\u001b[0m\n\u001b[0m",
      "\u001b[1;32m/notebooks/bokeh-server/dashboards/demo1_dashboard.py\u001b[0m in \u001b[0;36mstart_updating\u001b[1;34m(dt)\u001b[0m\n\u001b[0;32m    134\u001b[0m             \u001b[1;32mexcept\u001b[0m\u001b[1;33m:\u001b[0m\u001b[1;32mpass\u001b[0m\u001b[1;33m\u001b[0m\u001b[0m\n\u001b[0;32m    135\u001b[0m \u001b[1;33m\u001b[0m\u001b[0m\n\u001b[1;32m--> 136\u001b[1;33m         \u001b[0mtime\u001b[0m\u001b[1;33m.\u001b[0m\u001b[0msleep\u001b[0m\u001b[1;33m(\u001b[0m\u001b[0mdt\u001b[0m\u001b[1;33m)\u001b[0m\u001b[1;33m;\u001b[0m\u001b[1;33m\u001b[0m\u001b[0m\n\u001b[0m\u001b[0;32m    137\u001b[0m \u001b[1;33m\u001b[0m\u001b[0m\n\u001b[0;32m    138\u001b[0m \u001b[1;32mif\u001b[0m \u001b[0m__name__\u001b[0m \u001b[1;33m==\u001b[0m \u001b[1;34m\"__main__\"\u001b[0m\u001b[1;33m:\u001b[0m\u001b[1;33m\u001b[0m\u001b[0m\n",
      "\u001b[1;31mKeyboardInterrupt\u001b[0m: "
     ]
    }
   ],
   "source": [
    "execfile(\"dashboards/demo1_dashboard.py\")"
   ]
  },
  {
   "cell_type": "code",
   "execution_count": 1,
   "metadata": {
    "collapsed": false
   },
   "outputs": [
    {
     "name": "stdout",
     "output_type": "stream",
     "text": [
      "initializing...\n",
      "preaparing widgets...\n",
      "publishing plots...\n"
     ]
    },
    {
     "name": "stderr",
     "output_type": "stream",
     "text": [
      "/usr/local/lib/python2.7/dist-packages/bokeh/plotting_helpers.py:295: UserWarning: WheelZoomTool are being repeated\n",
      "  warnings.warn(\"%s are being repeated\" % \",\".join(repeated_tools))\n"
     ]
    },
    {
     "data": {
      "text/html": [
       "<script\n",
       "    src=\"http://0.0.0.0:7010/bokeh/autoload.js/4ee4d800-e1ba-430b-b27a-13f2f94b3fca\"\n",
       "    id=\"4ee4d800-e1ba-430b-b27a-13f2f94b3fca\"\n",
       "    async=\"true\"\n",
       "    data-bokeh-data=\"server\"\n",
       "    data-bokeh-modelid=\"68bd236b-5090-42ae-9003-1e02656d4228\"\n",
       "    data-bokeh-root-url=\"http://0.0.0.0:7010/\"\n",
       "    data-bokeh-docid=\"3ec04f0e-51aa-46a8-aafa-48f4c4eadf2b\"\n",
       "    \n",
       "    data-bokeh-docapikey=\"2936f552-84b7-4bf5-a629-457816bbc851\"\n",
       "    \n",
       "    data-bokeh-loglevel=\"info\"\n",
       "></script>"
      ]
     },
     "metadata": {},
     "output_type": "display_data"
    },
    {
     "data": {
      "text/html": [
       "<script\n",
       "    src=\"http://0.0.0.0:7010/bokeh/autoload.js/af20d16a-9b3b-485d-a473-a4fea9cc5b1e\"\n",
       "    id=\"af20d16a-9b3b-485d-a473-a4fea9cc5b1e\"\n",
       "    async=\"true\"\n",
       "    data-bokeh-data=\"server\"\n",
       "    data-bokeh-modelid=\"737757d5-1554-4a7b-ab27-d2547fd99792\"\n",
       "    data-bokeh-root-url=\"http://0.0.0.0:7010/\"\n",
       "    data-bokeh-docid=\"3ec04f0e-51aa-46a8-aafa-48f4c4eadf2b\"\n",
       "    \n",
       "    data-bokeh-docapikey=\"2936f552-84b7-4bf5-a629-457816bbc851\"\n",
       "    \n",
       "    data-bokeh-loglevel=\"info\"\n",
       "></script>"
      ]
     },
     "metadata": {},
     "output_type": "display_data"
    },
    {
     "data": {
      "text/html": [
       "<script\n",
       "    src=\"http://0.0.0.0:7010/bokeh/autoload.js/63b03d97-cac5-4c5a-88f4-51ab971a5899\"\n",
       "    id=\"63b03d97-cac5-4c5a-88f4-51ab971a5899\"\n",
       "    async=\"true\"\n",
       "    data-bokeh-data=\"server\"\n",
       "    data-bokeh-modelid=\"b9043cd7-66c6-420d-b9d9-bbebc827e6c7\"\n",
       "    data-bokeh-root-url=\"http://0.0.0.0:7010/\"\n",
       "    data-bokeh-docid=\"3ec04f0e-51aa-46a8-aafa-48f4c4eadf2b\"\n",
       "    \n",
       "    data-bokeh-docapikey=\"2936f552-84b7-4bf5-a629-457816bbc851\"\n",
       "    \n",
       "    data-bokeh-loglevel=\"info\"\n",
       "></script>"
      ]
     },
     "metadata": {},
     "output_type": "display_data"
    },
    {
     "data": {
      "text/html": [
       "<script\n",
       "    src=\"http://0.0.0.0:7010/bokeh/autoload.js/45d4d831-55f2-4445-9658-730495bb751d\"\n",
       "    id=\"45d4d831-55f2-4445-9658-730495bb751d\"\n",
       "    async=\"true\"\n",
       "    data-bokeh-data=\"server\"\n",
       "    data-bokeh-modelid=\"b86d630a-7a2a-4ad2-98b9-36d1ede9c595\"\n",
       "    data-bokeh-root-url=\"http://0.0.0.0:7010/\"\n",
       "    data-bokeh-docid=\"3ec04f0e-51aa-46a8-aafa-48f4c4eadf2b\"\n",
       "    \n",
       "    data-bokeh-docapikey=\"2936f552-84b7-4bf5-a629-457816bbc851\"\n",
       "    \n",
       "    data-bokeh-loglevel=\"info\"\n",
       "></script>"
      ]
     },
     "metadata": {},
     "output_type": "display_data"
    },
    {
     "name": "stdout",
     "output_type": "stream",
     "text": [
      "creating static links...\n",
      "saving widget scripts...\n",
      "dashboard dashboard1 ready.\n"
     ]
    }
   ],
   "source": [
    "import dashboards.demo1_dashboard as demo1\n",
    "demo1.prepare_widgets()\n"
   ]
  },
  {
   "cell_type": "code",
   "execution_count": 3,
   "metadata": {
    "collapsed": false
   },
   "outputs": [
    {
     "ename": "AttributeError",
     "evalue": "unexpected attribute 'id' to VBox, possible attributes are children, disabled, height, name, session, tags or width",
     "output_type": "error",
     "traceback": [
      "\u001b[1;31m---------------------------------------------------------------------------\u001b[0m",
      "\u001b[1;31mAttributeError\u001b[0m                            Traceback (most recent call last)",
      "\u001b[1;32m<ipython-input-3-4c60a29db15e>\u001b[0m in \u001b[0;36m<module>\u001b[1;34m()\u001b[0m\n\u001b[1;32m----> 1\u001b[1;33m \u001b[0mdemo1\u001b[0m\u001b[1;33m.\u001b[0m\u001b[0mwhole_dashboard\u001b[0m\u001b[1;33m.\u001b[0m\u001b[0mset\u001b[0m\u001b[1;33m(\u001b[0m\u001b[0mid\u001b[0m\u001b[1;33m=\u001b[0m\u001b[1;34m\"111\"\u001b[0m\u001b[1;33m)\u001b[0m\u001b[1;33m\u001b[0m\u001b[0m\n\u001b[0m",
      "\u001b[1;32m/usr/local/lib/python2.7/dist-packages/bokeh/properties.pyc\u001b[0m in \u001b[0;36mset\u001b[1;34m(self, **kwargs)\u001b[0m\n\u001b[0;32m    469\u001b[0m         \u001b[1;34m\"\"\" Sets a number of properties at once \"\"\"\u001b[0m\u001b[1;33m\u001b[0m\u001b[0m\n\u001b[0;32m    470\u001b[0m         \u001b[1;32mfor\u001b[0m \u001b[0mkw\u001b[0m \u001b[1;32min\u001b[0m \u001b[0mkwargs\u001b[0m\u001b[1;33m:\u001b[0m\u001b[1;33m\u001b[0m\u001b[0m\n\u001b[1;32m--> 471\u001b[1;33m             \u001b[0msetattr\u001b[0m\u001b[1;33m(\u001b[0m\u001b[0mself\u001b[0m\u001b[1;33m,\u001b[0m \u001b[0mkw\u001b[0m\u001b[1;33m,\u001b[0m \u001b[0mkwargs\u001b[0m\u001b[1;33m[\u001b[0m\u001b[0mkw\u001b[0m\u001b[1;33m]\u001b[0m\u001b[1;33m)\u001b[0m\u001b[1;33m\u001b[0m\u001b[0m\n\u001b[0m\u001b[0;32m    472\u001b[0m \u001b[1;33m\u001b[0m\u001b[0m\n\u001b[0;32m    473\u001b[0m     \u001b[1;32mdef\u001b[0m \u001b[0mpprint_props\u001b[0m\u001b[1;33m(\u001b[0m\u001b[0mself\u001b[0m\u001b[1;33m,\u001b[0m \u001b[0mindent\u001b[0m\u001b[1;33m=\u001b[0m\u001b[1;36m0\u001b[0m\u001b[1;33m)\u001b[0m\u001b[1;33m:\u001b[0m\u001b[1;33m\u001b[0m\u001b[0m\n",
      "\u001b[1;32m/usr/local/lib/python2.7/dist-packages/bokeh/properties.pyc\u001b[0m in \u001b[0;36m__setattr__\u001b[1;34m(self, name, value)\u001b[0m\n\u001b[0;32m    376\u001b[0m \u001b[1;33m\u001b[0m\u001b[0m\n\u001b[0;32m    377\u001b[0m             raise AttributeError(\"unexpected attribute '%s' to %s, %s attributes are %s\" %\n\u001b[1;32m--> 378\u001b[1;33m                 (name, self.__class__.__name__, text, nice_join(matches)))\n\u001b[0m\u001b[0;32m    379\u001b[0m \u001b[1;33m\u001b[0m\u001b[0m\n\u001b[0;32m    380\u001b[0m     \u001b[1;32mdef\u001b[0m \u001b[0mclone\u001b[0m\u001b[1;33m(\u001b[0m\u001b[0mself\u001b[0m\u001b[1;33m)\u001b[0m\u001b[1;33m:\u001b[0m\u001b[1;33m\u001b[0m\u001b[0m\n",
      "\u001b[1;31mAttributeError\u001b[0m: unexpected attribute 'id' to VBox, possible attributes are children, disabled, height, name, session, tags or width"
     ]
    }
   ],
   "source": []
  },
  {
   "cell_type": "code",
   "execution_count": 59,
   "metadata": {
    "collapsed": false
   },
   "outputs": [
    {
     "ename": "TypeError",
     "evalue": "get_json() takes at least 2 arguments (1 given)",
     "output_type": "error",
     "traceback": [
      "\u001b[1;31m---------------------------------------------------------------------------\u001b[0m",
      "\u001b[1;31mTypeError\u001b[0m                                 Traceback (most recent call last)",
      "\u001b[1;32m<ipython-input-59-929f0b5e32b4>\u001b[0m in \u001b[0;36m<module>\u001b[1;34m()\u001b[0m\n\u001b[1;32m----> 1\u001b[1;33m \u001b[0mclient\u001b[0m\u001b[1;33m.\u001b[0m\u001b[0mget_json\u001b[0m\u001b[1;33m(\u001b[0m\u001b[1;33m)\u001b[0m\u001b[1;33m\u001b[0m\u001b[0m\n\u001b[0m",
      "\u001b[1;31mTypeError\u001b[0m: get_json() takes at least 2 arguments (1 given)"
     ]
    }
   ],
   "source": [
    "import"
   ]
  },
  {
   "cell_type": "code",
   "execution_count": 5,
   "metadata": {
    "collapsed": false
   },
   "outputs": [
    {
     "data": {
      "text/plain": [
       "'b47305da-b64d-4bc2-a02a-0529d5f5b646'"
      ]
     },
     "execution_count": 5,
     "metadata": {},
     "output_type": "execute_result"
    }
   ],
   "source": [
    "script = \"\"\"<script\n",
    "    src=\"http://0.0.0.0:7010/bokeh/autoload.js/6fffaddf-abf5-490b-949c-781ad3f3d040\"\n",
    "    id=\"6fffaddf-abf5-490b-949c-781ad3f3d040\"\n",
    "    async=\"true\"\n",
    "    data-bokeh-data=\"server\"\n",
    "    data-bokeh-modelid=\"b47305da-b64d-4bc2-a02a-0529d5f5b646\"\n",
    "    data-bokeh-root-url=\"http://0.0.0.0:7010/\"\n",
    "    data-bokeh-docid=\"89c9fb00-a9d9-472e-8649-99763ff030a8\"\n",
    "    \n",
    "    data-bokeh-public=\"true\"\n",
    "    \n",
    "    data-bokeh-loglevel=\"info\"\n",
    "></script>\"\"\"\n",
    "\n",
    "def get_chart_link(script,server_addr):\n",
    "    \"\"\"makes a static hyperlink from static script\"\"\"\n",
    "    chart_id = script[script.index(\"data-bokeh-modelid\")+ len(\"data-bokeh-modelid\")+2:]\n",
    "    chart_id = chart_id[:chart_id.index('\\n')-1]\n",
    "\n",
    "    doc_id = script[script.index(\"data-bokeh-docid\")+ len(\"data-bokeh-docid\")+2:]\n",
    "    doc_id = chart_id[:doc_id.index('\\n')-1]\n",
    "    return server_addr+ \"bokeh/doc/{}/{}\".format(doc_id,chart_id)"
   ]
  },
  {
   "cell_type": "code",
   "execution_count": 41,
   "metadata": {
    "collapsed": false
   },
   "outputs": [
    {
     "data": {
      "text/plain": [
       "'http://0.0.0.0:7010/bokeh/autoload.js/6fffaddf-abf5-490b-949c-781ad3f3d040'"
      ]
     },
     "execution_count": 41,
     "metadata": {},
     "output_type": "execute_result"
    }
   ],
   "source": [
    "script"
   ]
  },
  {
   "cell_type": "code",
   "execution_count": 23,
   "metadata": {
    "collapsed": false,
    "scrolled": true
   },
   "outputs": [],
   "source": [
    "import htmllib,formatter\n",
    "\n",
    "parser = htmllib.HTMLParser(formatter.NullFormatter())\n",
    "parser.feed(src)\n",
    "parser.close()"
   ]
  },
  {
   "cell_type": "code",
   "execution_count": 29,
   "metadata": {
    "collapsed": false
   },
   "outputs": [],
   "source": []
  }
 ],
 "metadata": {
  "kernelspec": {
   "display_name": "Python 2",
   "language": "python",
   "name": "python2"
  },
  "language_info": {
   "codemirror_mode": {
    "name": "ipython",
    "version": 2
   },
   "file_extension": ".py",
   "mimetype": "text/x-python",
   "name": "python",
   "nbconvert_exporter": "python",
   "pygments_lexer": "ipython2",
   "version": "2.7.6"
  }
 },
 "nbformat": 4,
 "nbformat_minor": 0
}
