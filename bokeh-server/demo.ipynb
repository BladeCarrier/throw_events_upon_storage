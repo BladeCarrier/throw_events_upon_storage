{
 "cells": [
  {
   "cell_type": "code",
   "execution_count": 1,
   "metadata": {
    "collapsed": false
   },
   "outputs": [
    {
     "data": {
      "text/plain": [
       "0"
      ]
     },
     "execution_count": 1,
     "metadata": {},
     "output_type": "execute_result"
    }
   ],
   "source": [
    "import os\n",
    "os.system(\"bokeh-server -m --ip 0.0.0.0 --port 7010 &\")\n",
    "execfile(\"dashboards/demo1_dashboard.py\")"
   ]
  },
  {
   "cell_type": "code",
   "execution_count": null,
   "metadata": {
    "collapsed": false,
    "scrolled": false
   },
   "outputs": [
    {
     "name": "stdout",
     "output_type": "stream",
     "text": [
      "initializing...\n",
      "preaparing widgets...\n",
      "publishing plots...\n"
     ]
    },
    {
     "name": "stderr",
     "output_type": "stream",
     "text": [
      "/usr/local/lib/python2.7/dist-packages/bokeh/plotting_helpers.py:295: UserWarning: WheelZoomTool are being repeated\n",
      "  warnings.warn(\"%s are being repeated\" % \",\".join(repeated_tools))\n"
     ]
    },
    {
     "data": {
      "text/html": [
       "<script\n",
       "    src=\"http://0.0.0.0:7010/bokeh/autoload.js/ba2a8ba3-b25a-4ac0-82a4-7f509bcfd81a\"\n",
       "    id=\"ba2a8ba3-b25a-4ac0-82a4-7f509bcfd81a\"\n",
       "    async=\"true\"\n",
       "    data-bokeh-data=\"server\"\n",
       "    data-bokeh-modelid=\"62bbfb91-b176-483b-a1a9-402ecc34e031\"\n",
       "    data-bokeh-root-url=\"http://0.0.0.0:7010/\"\n",
       "    data-bokeh-docid=\"46c20c82-537d-44e5-afcc-455a7da83202\"\n",
       "    \n",
       "    data-bokeh-docapikey=\"5f8f10a6-e2a6-477c-8bc7-bbb855b2e7ba\"\n",
       "    \n",
       "    data-bokeh-loglevel=\"info\"\n",
       "></script>"
      ]
     },
     "metadata": {},
     "output_type": "display_data"
    },
    {
     "data": {
      "text/html": [
       "<script\n",
       "    src=\"http://0.0.0.0:7010/bokeh/autoload.js/1ac4bbca-bc27-458d-a746-34cc7fae9099\"\n",
       "    id=\"1ac4bbca-bc27-458d-a746-34cc7fae9099\"\n",
       "    async=\"true\"\n",
       "    data-bokeh-data=\"server\"\n",
       "    data-bokeh-modelid=\"6df7e0ad-d2f4-4c89-ad18-740be42ad39e\"\n",
       "    data-bokeh-root-url=\"http://0.0.0.0:7010/\"\n",
       "    data-bokeh-docid=\"46c20c82-537d-44e5-afcc-455a7da83202\"\n",
       "    \n",
       "    data-bokeh-docapikey=\"5f8f10a6-e2a6-477c-8bc7-bbb855b2e7ba\"\n",
       "    \n",
       "    data-bokeh-loglevel=\"info\"\n",
       "></script>"
      ]
     },
     "metadata": {},
     "output_type": "display_data"
    },
    {
     "data": {
      "text/html": [
       "<script\n",
       "    src=\"http://0.0.0.0:7010/bokeh/autoload.js/0d7245df-1cc1-41e3-b27e-2d671f2d41b9\"\n",
       "    id=\"0d7245df-1cc1-41e3-b27e-2d671f2d41b9\"\n",
       "    async=\"true\"\n",
       "    data-bokeh-data=\"server\"\n",
       "    data-bokeh-modelid=\"24720c21-07d7-484b-839d-19f6d3022782\"\n",
       "    data-bokeh-root-url=\"http://0.0.0.0:7010/\"\n",
       "    data-bokeh-docid=\"46c20c82-537d-44e5-afcc-455a7da83202\"\n",
       "    \n",
       "    data-bokeh-docapikey=\"5f8f10a6-e2a6-477c-8bc7-bbb855b2e7ba\"\n",
       "    \n",
       "    data-bokeh-loglevel=\"info\"\n",
       "></script>"
      ]
     },
     "metadata": {},
     "output_type": "display_data"
    },
    {
     "data": {
      "text/html": [
       "<script\n",
       "    src=\"http://0.0.0.0:7010/bokeh/autoload.js/6e620450-1559-4e9a-885b-86c10aa4b559\"\n",
       "    id=\"6e620450-1559-4e9a-885b-86c10aa4b559\"\n",
       "    async=\"true\"\n",
       "    data-bokeh-data=\"server\"\n",
       "    data-bokeh-modelid=\"56d812c2-62e8-4c8a-8b71-c933f94c1721\"\n",
       "    data-bokeh-root-url=\"http://0.0.0.0:7010/\"\n",
       "    data-bokeh-docid=\"46c20c82-537d-44e5-afcc-455a7da83202\"\n",
       "    \n",
       "    data-bokeh-docapikey=\"5f8f10a6-e2a6-477c-8bc7-bbb855b2e7ba\"\n",
       "    \n",
       "    data-bokeh-loglevel=\"info\"\n",
       "></script>"
      ]
     },
     "metadata": {},
     "output_type": "display_data"
    },
    {
     "data": {
      "text/html": [
       "<script\n",
       "    src=\"http://0.0.0.0:7010/bokeh/autoload.js/2900b917-4bb4-451b-b56a-32f4a87244a3\"\n",
       "    id=\"2900b917-4bb4-451b-b56a-32f4a87244a3\"\n",
       "    async=\"true\"\n",
       "    data-bokeh-data=\"server\"\n",
       "    data-bokeh-modelid=\"f69161af-5206-4b10-946f-cc7f8289b22c\"\n",
       "    data-bokeh-root-url=\"http://0.0.0.0:7010/\"\n",
       "    data-bokeh-docid=\"46c20c82-537d-44e5-afcc-455a7da83202\"\n",
       "    \n",
       "    data-bokeh-docapikey=\"5f8f10a6-e2a6-477c-8bc7-bbb855b2e7ba\"\n",
       "    \n",
       "    data-bokeh-loglevel=\"info\"\n",
       "></script>"
      ]
     },
     "metadata": {},
     "output_type": "display_data"
    },
    {
     "name": "stdout",
     "output_type": "stream",
     "text": [
      "creating static links...\n",
      "saving widget scripts...\n",
      "dashboard dashboard1 ready."
     ]
    },
    {
     "name": "stderr",
     "output_type": "stream",
     "text": [
      "WARNING (theano.gof.cmodule): A module that was loaded by this ModuleCache can no longer be read from file /root/.theano/compiledir_Linux-3.10-el7.x86_64-x86_64-with-Ubuntu-14.04-trusty-x86_64-2.7.6-64/tmp0CjRV1/a0c0d004885b47900367b972585efa2a.so... this could lead to problems.\n",
      "WARNING:theano.gof.cmodule:A module that was loaded by this ModuleCache can no longer be read from file /root/.theano/compiledir_Linux-3.10-el7.x86_64-x86_64-with-Ubuntu-14.04-trusty-x86_64-2.7.6-64/tmp0CjRV1/a0c0d004885b47900367b972585efa2a.so... this could lead to problems.\n",
      "WARNING (theano.gof.cmodule): Removing key file /root/.theano/compiledir_Linux-3.10-el7.x86_64-x86_64-with-Ubuntu-14.04-trusty-x86_64-2.7.6-64/tmp0CjRV1/key.pkl because the corresponding module is gone from the file system.\n",
      "WARNING:theano.gof.cmodule:Removing key file /root/.theano/compiledir_Linux-3.10-el7.x86_64-x86_64-with-Ubuntu-14.04-trusty-x86_64-2.7.6-64/tmp0CjRV1/key.pkl because the corresponding module is gone from the file system.\n"
     ]
    }
   ],
   "source": []
  },
  {
   "cell_type": "code",
   "execution_count": 14,
   "metadata": {
    "collapsed": false
   },
   "outputs": [
    {
     "data": {
      "text/plain": [
       "[<matplotlib.lines.Line2D at 0x7f1ab88b4410>]"
      ]
     },
     "execution_count": 14,
     "metadata": {},
     "output_type": "execute_result"
    },
    {
     "data": {
      "image/png": "[encoded data removed]",
      "text/plain": [
       "<matplotlib.figure.Figure at 0x7f1ab8a7cf10>"
      ]
     },
     "metadata": {},
     "output_type": "display_data"
    }
   ],
   "source": [
    "\n",
    "import numpy as np\n",
    "import matplotlib.pyplot as plt\n",
    "%matplotlib inline\n",
    "x=np.arange(1920,2020)\n",
    "plt.plot(x,pdf(x))"
   ]
  }
 ],
 "metadata": {
  "kernelspec": {
   "display_name": "Python 2",
   "language": "python",
   "name": "python2"
  },
  "language_info": {
   "codemirror_mode": {
    "name": "ipython",
    "version": 2
   },
   "file_extension": ".py",
   "mimetype": "text/x-python",
   "name": "python",
   "nbconvert_exporter": "python",
   "pygments_lexer": "ipython2",
   "version": "2.7.6"
  }
 },
 "nbformat": 4,
 "nbformat_minor": 0
}
