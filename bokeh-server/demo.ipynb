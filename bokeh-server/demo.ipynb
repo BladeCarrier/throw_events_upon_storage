{
 "cells": [
  {
   "cell_type": "code",
   "execution_count": 2,
   "metadata": {
    "collapsed": false
   },
   "outputs": [
    {
     "data": {
      "text/plain": [
       "0"
      ]
     },
     "execution_count": 2,
     "metadata": {},
     "output_type": "execute_result"
    }
   ],
   "source": [
    "import os\n",
    "os.system(\"bokeh-server -m --ip 0.0.0.0 --port 7010 &\")\n"
   ]
  },
  {
   "cell_type": "code",
   "execution_count": 3,
   "metadata": {
    "collapsed": false,
    "scrolled": true
   },
   "outputs": [
    {
     "name": "stdout",
     "output_type": "stream",
     "text": [
      "initializing...\n",
      "preaparing widgets...\n",
      "publishing plots...\n"
     ]
    },
    {
     "name": "stderr",
     "output_type": "stream",
     "text": [
      "/usr/local/lib/python2.7/dist-packages/bokeh/plotting_helpers.py:295: UserWarning: WheelZoomTool are being repeated\n",
      "  warnings.warn(\"%s are being repeated\" % \",\".join(repeated_tools))\n"
     ]
    },
    {
     "data": {
      "text/html": [
       "<script\n",
       "    src=\"http://0.0.0.0:7010/bokeh/autoload.js/2a526b4b-24ca-4d39-b1a7-a13fd020eebf\"\n",
       "    id=\"2a526b4b-24ca-4d39-b1a7-a13fd020eebf\"\n",
       "    async=\"true\"\n",
       "    data-bokeh-data=\"server\"\n",
       "    data-bokeh-modelid=\"3f98014b-472d-4186-b047-22745a1b45b1\"\n",
       "    data-bokeh-root-url=\"http://0.0.0.0:7010/\"\n",
       "    data-bokeh-docid=\"fa0896ec-3e77-4ad9-91b1-b150e7c73d7a\"\n",
       "    \n",
       "    data-bokeh-docapikey=\"61001f50-c973-4cc9-aeb1-88ab1d950477\"\n",
       "    \n",
       "    data-bokeh-loglevel=\"info\"\n",
       "></script>"
      ]
     },
     "metadata": {},
     "output_type": "display_data"
    },
    {
     "data": {
      "text/html": [
       "<script\n",
       "    src=\"http://0.0.0.0:7010/bokeh/autoload.js/b4e0a3bf-0f00-44e3-b932-3b932fe3a8e8\"\n",
       "    id=\"b4e0a3bf-0f00-44e3-b932-3b932fe3a8e8\"\n",
       "    async=\"true\"\n",
       "    data-bokeh-data=\"server\"\n",
       "    data-bokeh-modelid=\"50ab4dc6-612e-403a-8996-b3f273e6b949\"\n",
       "    data-bokeh-root-url=\"http://0.0.0.0:7010/\"\n",
       "    data-bokeh-docid=\"fa0896ec-3e77-4ad9-91b1-b150e7c73d7a\"\n",
       "    \n",
       "    data-bokeh-docapikey=\"61001f50-c973-4cc9-aeb1-88ab1d950477\"\n",
       "    \n",
       "    data-bokeh-loglevel=\"info\"\n",
       "></script>"
      ]
     },
     "metadata": {},
     "output_type": "display_data"
    },
    {
     "data": {
      "text/html": [
       "<script\n",
       "    src=\"http://0.0.0.0:7010/bokeh/autoload.js/61d9b029-fbbb-4ee9-aa92-a0c8708e77cc\"\n",
       "    id=\"61d9b029-fbbb-4ee9-aa92-a0c8708e77cc\"\n",
       "    async=\"true\"\n",
       "    data-bokeh-data=\"server\"\n",
       "    data-bokeh-modelid=\"4e69d10a-cc8d-4551-b83c-ca4a420380aa\"\n",
       "    data-bokeh-root-url=\"http://0.0.0.0:7010/\"\n",
       "    data-bokeh-docid=\"fa0896ec-3e77-4ad9-91b1-b150e7c73d7a\"\n",
       "    \n",
       "    data-bokeh-docapikey=\"61001f50-c973-4cc9-aeb1-88ab1d950477\"\n",
       "    \n",
       "    data-bokeh-loglevel=\"info\"\n",
       "></script>"
      ]
     },
     "metadata": {},
     "output_type": "display_data"
    },
    {
     "data": {
      "text/html": [
       "<script\n",
       "    src=\"http://0.0.0.0:7010/bokeh/autoload.js/ca43db43-9be6-448b-9549-a6a5d80f9c66\"\n",
       "    id=\"ca43db43-9be6-448b-9549-a6a5d80f9c66\"\n",
       "    async=\"true\"\n",
       "    data-bokeh-data=\"server\"\n",
       "    data-bokeh-modelid=\"35c274f0-085d-4d33-abca-46e3b90c2368\"\n",
       "    data-bokeh-root-url=\"http://0.0.0.0:7010/\"\n",
       "    data-bokeh-docid=\"fa0896ec-3e77-4ad9-91b1-b150e7c73d7a\"\n",
       "    \n",
       "    data-bokeh-docapikey=\"61001f50-c973-4cc9-aeb1-88ab1d950477\"\n",
       "    \n",
       "    data-bokeh-loglevel=\"info\"\n",
       "></script>"
      ]
     },
     "metadata": {},
     "output_type": "display_data"
    },
    {
     "name": "stderr",
     "output_type": "stream",
     "text": [
      "WARNING:elasticsearch:GET http://localhost:9200/run*/_search [status:N/A request:0.001s]\n",
      "Traceback (most recent call last):\n",
      "  File \"/usr/local/lib/python2.7/dist-packages/elasticsearch/connection/http_urllib3.py\", line 78, in perform_request\n",
      "    response = self.pool.urlopen(method, url, body, retries=False, headers=self.headers, **kw)\n",
      "  File \"/usr/local/lib/python2.7/dist-packages/urllib3/connectionpool.py\", line 609, in urlopen\n",
      "    _stacktrace=sys.exc_info()[2])\n",
      "  File \"/usr/local/lib/python2.7/dist-packages/urllib3/util/retry.py\", line 222, in increment\n",
      "    raise six.reraise(type(error), error, _stacktrace)\n",
      "  File \"/usr/local/lib/python2.7/dist-packages/urllib3/connectionpool.py\", line 559, in urlopen\n",
      "    body=body, headers=headers)\n",
      "  File \"/usr/local/lib/python2.7/dist-packages/urllib3/connectionpool.py\", line 353, in _make_request\n",
      "    conn.request(method, url, **httplib_request_kw)\n",
      "  File \"/usr/lib/python2.7/httplib.py\", line 979, in request\n",
      "    self._send_request(method, url, body, headers)\n",
      "  File \"/usr/lib/python2.7/httplib.py\", line 1013, in _send_request\n",
      "    self.endheaders(body)\n",
      "  File \"/usr/lib/python2.7/httplib.py\", line 975, in endheaders\n",
      "    self._send_output(message_body)\n",
      "  File \"/usr/lib/python2.7/httplib.py\", line 835, in _send_output\n",
      "    self.send(msg)\n",
      "  File \"/usr/lib/python2.7/httplib.py\", line 797, in send\n",
      "    self.connect()\n",
      "  File \"/usr/local/lib/python2.7/dist-packages/urllib3/connection.py\", line 160, in connect\n",
      "    conn = self._new_conn()\n",
      "  File \"/usr/local/lib/python2.7/dist-packages/urllib3/connection.py\", line 144, in _new_conn\n",
      "    self, \"Failed to establish a new connection: %s\" % e)\n",
      "NewConnectionError: <urllib3.connection.HTTPConnection object at 0x7fb0003a2910>: Failed to establish a new connection: [Errno 111] Connection refused\n",
      "WARNING:elasticsearch:GET http://localhost:9200/run*/_search [status:N/A request:0.000s]\n",
      "Traceback (most recent call last):\n",
      "  File \"/usr/local/lib/python2.7/dist-packages/elasticsearch/connection/http_urllib3.py\", line 78, in perform_request\n",
      "    response = self.pool.urlopen(method, url, body, retries=False, headers=self.headers, **kw)\n",
      "  File \"/usr/local/lib/python2.7/dist-packages/urllib3/connectionpool.py\", line 609, in urlopen\n",
      "    _stacktrace=sys.exc_info()[2])\n",
      "  File \"/usr/local/lib/python2.7/dist-packages/urllib3/util/retry.py\", line 222, in increment\n",
      "    raise six.reraise(type(error), error, _stacktrace)\n",
      "  File \"/usr/local/lib/python2.7/dist-packages/urllib3/connectionpool.py\", line 559, in urlopen\n",
      "    body=body, headers=headers)\n",
      "  File \"/usr/local/lib/python2.7/dist-packages/urllib3/connectionpool.py\", line 353, in _make_request\n",
      "    conn.request(method, url, **httplib_request_kw)\n",
      "  File \"/usr/lib/python2.7/httplib.py\", line 979, in request\n",
      "    self._send_request(method, url, body, headers)\n",
      "  File \"/usr/lib/python2.7/httplib.py\", line 1013, in _send_request\n",
      "    self.endheaders(body)\n",
      "  File \"/usr/lib/python2.7/httplib.py\", line 975, in endheaders\n",
      "    self._send_output(message_body)\n",
      "  File \"/usr/lib/python2.7/httplib.py\", line 835, in _send_output\n",
      "    self.send(msg)\n",
      "  File \"/usr/lib/python2.7/httplib.py\", line 797, in send\n",
      "    self.connect()\n",
      "  File \"/usr/local/lib/python2.7/dist-packages/urllib3/connection.py\", line 160, in connect\n",
      "    conn = self._new_conn()\n",
      "  File \"/usr/local/lib/python2.7/dist-packages/urllib3/connection.py\", line 144, in _new_conn\n",
      "    self, \"Failed to establish a new connection: %s\" % e)\n",
      "NewConnectionError: <urllib3.connection.HTTPConnection object at 0x7faffec31e50>: Failed to establish a new connection: [Errno 111] Connection refused\n",
      "WARNING:elasticsearch:GET http://localhost:9200/run*/_search [status:N/A request:0.000s]\n",
      "Traceback (most recent call last):\n",
      "  File \"/usr/local/lib/python2.7/dist-packages/elasticsearch/connection/http_urllib3.py\", line 78, in perform_request\n",
      "    response = self.pool.urlopen(method, url, body, retries=False, headers=self.headers, **kw)\n",
      "  File \"/usr/local/lib/python2.7/dist-packages/urllib3/connectionpool.py\", line 609, in urlopen\n",
      "    _stacktrace=sys.exc_info()[2])\n",
      "  File \"/usr/local/lib/python2.7/dist-packages/urllib3/util/retry.py\", line 222, in increment\n",
      "    raise six.reraise(type(error), error, _stacktrace)\n",
      "  File \"/usr/local/lib/python2.7/dist-packages/urllib3/connectionpool.py\", line 559, in urlopen\n",
      "    body=body, headers=headers)\n",
      "  File \"/usr/local/lib/python2.7/dist-packages/urllib3/connectionpool.py\", line 353, in _make_request\n",
      "    conn.request(method, url, **httplib_request_kw)\n",
      "  File \"/usr/lib/python2.7/httplib.py\", line 979, in request\n",
      "    self._send_request(method, url, body, headers)\n",
      "  File \"/usr/lib/python2.7/httplib.py\", line 1013, in _send_request\n",
      "    self.endheaders(body)\n",
      "  File \"/usr/lib/python2.7/httplib.py\", line 975, in endheaders\n",
      "    self._send_output(message_body)\n",
      "  File \"/usr/lib/python2.7/httplib.py\", line 835, in _send_output\n",
      "    self.send(msg)\n",
      "  File \"/usr/lib/python2.7/httplib.py\", line 797, in send\n",
      "    self.connect()\n",
      "  File \"/usr/local/lib/python2.7/dist-packages/urllib3/connection.py\", line 160, in connect\n",
      "    conn = self._new_conn()\n",
      "  File \"/usr/local/lib/python2.7/dist-packages/urllib3/connection.py\", line 144, in _new_conn\n",
      "    self, \"Failed to establish a new connection: %s\" % e)\n",
      "NewConnectionError: <urllib3.connection.HTTPConnection object at 0x7faffec31090>: Failed to establish a new connection: [Errno 111] Connection refused\n",
      "WARNING:elasticsearch:GET http://localhost:9200/run*/_search [status:N/A request:0.000s]\n",
      "Traceback (most recent call last):\n",
      "  File \"/usr/local/lib/python2.7/dist-packages/elasticsearch/connection/http_urllib3.py\", line 78, in perform_request\n",
      "    response = self.pool.urlopen(method, url, body, retries=False, headers=self.headers, **kw)\n",
      "  File \"/usr/local/lib/python2.7/dist-packages/urllib3/connectionpool.py\", line 609, in urlopen\n",
      "    _stacktrace=sys.exc_info()[2])\n",
      "  File \"/usr/local/lib/python2.7/dist-packages/urllib3/util/retry.py\", line 222, in increment\n",
      "    raise six.reraise(type(error), error, _stacktrace)\n",
      "  File \"/usr/local/lib/python2.7/dist-packages/urllib3/connectionpool.py\", line 559, in urlopen\n",
      "    body=body, headers=headers)\n",
      "  File \"/usr/local/lib/python2.7/dist-packages/urllib3/connectionpool.py\", line 353, in _make_request\n",
      "    conn.request(method, url, **httplib_request_kw)\n",
      "  File \"/usr/lib/python2.7/httplib.py\", line 979, in request\n",
      "    self._send_request(method, url, body, headers)\n",
      "  File \"/usr/lib/python2.7/httplib.py\", line 1013, in _send_request\n",
      "    self.endheaders(body)\n",
      "  File \"/usr/lib/python2.7/httplib.py\", line 975, in endheaders\n",
      "    self._send_output(message_body)\n",
      "  File \"/usr/lib/python2.7/httplib.py\", line 835, in _send_output\n",
      "    self.send(msg)\n",
      "  File \"/usr/lib/python2.7/httplib.py\", line 797, in send\n",
      "    self.connect()\n",
      "  File \"/usr/local/lib/python2.7/dist-packages/urllib3/connection.py\", line 160, in connect\n",
      "    conn = self._new_conn()\n",
      "  File \"/usr/local/lib/python2.7/dist-packages/urllib3/connection.py\", line 144, in _new_conn\n",
      "    self, \"Failed to establish a new connection: %s\" % e)\n",
      "NewConnectionError: <urllib3.connection.HTTPConnection object at 0x7faffec31e50>: Failed to establish a new connection: [Errno 111] Connection refused\n"
     ]
    },
    {
     "name": "stdout",
     "output_type": "stream",
     "text": [
      "creating static links...\n",
      "saving widget scripts...\n",
      "dashboard dashboard1 ready. now updating...\n"
     ]
    },
    {
     "ename": "ConnectionError",
     "evalue": "ConnectionError(<urllib3.connection.HTTPConnection object at 0x7faffec31e50>: Failed to establish a new connection: [Errno 111] Connection refused) caused by: NewConnectionError(<urllib3.connection.HTTPConnection object at 0x7faffec31e50>: Failed to establish a new connection: [Errno 111] Connection refused)",
     "output_type": "error",
     "traceback": [
      "\u001b[1;31m---------------------------------------------------------------------------\u001b[0m",
      "\u001b[1;31mConnectionError\u001b[0m                           Traceback (most recent call last)",
      "\u001b[1;32m<ipython-input-3-c16e1dcaa4ab>\u001b[0m in \u001b[0;36m<module>\u001b[1;34m()\u001b[0m\n\u001b[1;32m----> 1\u001b[1;33m \u001b[0mexecfile\u001b[0m\u001b[1;33m(\u001b[0m\u001b[1;34m\"dashboards/demo1_dashboard.py\"\u001b[0m\u001b[1;33m)\u001b[0m\u001b[1;33m\u001b[0m\u001b[0m\n\u001b[0m",
      "\u001b[1;32m/notebooks/bokeh-server/dashboards/demo1_dashboard.py\u001b[0m in \u001b[0;36m<module>\u001b[1;34m()\u001b[0m\n\u001b[0;32m    140\u001b[0m \u001b[1;32mif\u001b[0m \u001b[0m__name__\u001b[0m \u001b[1;33m==\u001b[0m \u001b[1;34m\"__main__\"\u001b[0m\u001b[1;33m:\u001b[0m\u001b[1;33m\u001b[0m\u001b[0m\n\u001b[0;32m    141\u001b[0m     \u001b[0mprepare_widgets\u001b[0m\u001b[1;33m(\u001b[0m\u001b[1;33m)\u001b[0m\u001b[1;33m\u001b[0m\u001b[0m\n\u001b[1;32m--> 142\u001b[1;33m     \u001b[0mstart_updating\u001b[0m\u001b[1;33m(\u001b[0m\u001b[1;33m)\u001b[0m\u001b[1;33m\u001b[0m\u001b[0m\n\u001b[0m",
      "\u001b[1;32m/notebooks/bokeh-server/dashboards/demo1_dashboard.py\u001b[0m in \u001b[0;36mstart_updating\u001b[1;34m(dt)\u001b[0m\n\u001b[0;32m    131\u001b[0m     \u001b[1;32mwhile\u001b[0m \u001b[0mTrue\u001b[0m\u001b[1;33m:\u001b[0m\u001b[1;33m\u001b[0m\u001b[0m\n\u001b[0;32m    132\u001b[0m         \u001b[1;32mfor\u001b[0m \u001b[0mwidget\u001b[0m \u001b[1;32min\u001b[0m \u001b[0mwidgets\u001b[0m\u001b[1;33m:\u001b[0m\u001b[1;33m\u001b[0m\u001b[0m\n\u001b[1;32m--> 133\u001b[1;33m             \u001b[0mupd_sources\u001b[0m \u001b[1;33m=\u001b[0m \u001b[0mwidget\u001b[0m\u001b[1;33m.\u001b[0m\u001b[0mget_updates\u001b[0m\u001b[1;33m(\u001b[0m\u001b[1;33m)\u001b[0m\u001b[1;33m\u001b[0m\u001b[0m\n\u001b[0m\u001b[0;32m    134\u001b[0m             \u001b[1;32mtry\u001b[0m\u001b[1;33m:\u001b[0m\u001b[1;33m\u001b[0m\u001b[0m\n\u001b[0;32m    135\u001b[0m                 \u001b[0mclient\u001b[0m\u001b[1;33m.\u001b[0m\u001b[0mstore_objects\u001b[0m\u001b[1;33m(\u001b[0m\u001b[1;33m*\u001b[0m\u001b[0mupd_sources\u001b[0m\u001b[1;33m)\u001b[0m\u001b[1;33m\u001b[0m\u001b[0m\n",
      "\u001b[1;32m/notebooks/bokeh-server/widgets/es_bokeh.pyc\u001b[0m in \u001b[0;36mget_updates\u001b[1;34m(self)\u001b[0m\n\u001b[0;32m    208\u001b[0m \u001b[1;33m\u001b[0m\u001b[0m\n\u001b[0;32m    209\u001b[0m         \u001b[1;31m#get base histogram updates, ALSO reattain (binx,binc)\u001b[0m\u001b[1;33m\u001b[0m\u001b[1;33m\u001b[0m\u001b[0m\n\u001b[1;32m--> 210\u001b[1;33m         \u001b[0mbase_updates\u001b[0m \u001b[1;33m=\u001b[0m \u001b[0mself\u001b[0m\u001b[1;33m.\u001b[0m\u001b[0mbase\u001b[0m\u001b[1;33m.\u001b[0m\u001b[0mget_updates\u001b[0m\u001b[1;33m(\u001b[0m\u001b[1;33m)\u001b[0m\u001b[1;33m\u001b[0m\u001b[0m\n\u001b[0m\u001b[0;32m    211\u001b[0m \u001b[1;33m\u001b[0m\u001b[0m\n\u001b[0;32m    212\u001b[0m         \u001b[1;31m#get new optimal pdfs; implicitly assumes that binx,binc are updated from the ElasticSearch\u001b[0m\u001b[1;33m\u001b[0m\u001b[1;33m\u001b[0m\u001b[0m\n",
      "\u001b[1;32m/notebooks/bokeh-server/widgets/es_bokeh.pyc\u001b[0m in \u001b[0;36mget_updates\u001b[1;34m(self)\u001b[0m\n\u001b[0;32m    115\u001b[0m     \u001b[1;32mdef\u001b[0m \u001b[0mget_updates\u001b[0m\u001b[1;33m(\u001b[0m\u001b[0mself\u001b[0m\u001b[1;33m)\u001b[0m\u001b[1;33m:\u001b[0m\u001b[1;33m\u001b[0m\u001b[0m\n\u001b[0;32m    116\u001b[0m         \u001b[1;34m\"\"\"returns a list of bokeh data_source objects\"\"\"\u001b[0m\u001b[1;33m\u001b[0m\u001b[0m\n\u001b[1;32m--> 117\u001b[1;33m         \u001b[0mx\u001b[0m\u001b[1;33m,\u001b[0m\u001b[0mc\u001b[0m \u001b[1;33m=\u001b[0m \u001b[0mself\u001b[0m\u001b[1;33m.\u001b[0m\u001b[0mget_hist_data\u001b[0m\u001b[1;33m(\u001b[0m\u001b[1;33m)\u001b[0m\u001b[1;33m\u001b[0m\u001b[0m\n\u001b[0m\u001b[0;32m    118\u001b[0m         \u001b[0mdeltas\u001b[0m \u001b[1;33m=\u001b[0m \u001b[0mnp\u001b[0m\u001b[1;33m.\u001b[0m\u001b[0msqrt\u001b[0m\u001b[1;33m(\u001b[0m\u001b[0mc\u001b[0m\u001b[1;33m)\u001b[0m\u001b[1;33m\u001b[0m\u001b[0m\n\u001b[0;32m    119\u001b[0m \u001b[1;33m\u001b[0m\u001b[0m\n",
      "\u001b[1;32m/notebooks/bokeh-server/widgets/es_bokeh.pyc\u001b[0m in \u001b[0;36mget_hist_data\u001b[1;34m(self)\u001b[0m\n\u001b[0;32m     85\u001b[0m         \u001b[0mxname\u001b[0m\u001b[1;33m,\u001b[0m\u001b[0mxmin\u001b[0m\u001b[1;33m,\u001b[0m\u001b[0mxmax\u001b[0m\u001b[1;33m,\u001b[0m\u001b[0mxbins\u001b[0m \u001b[1;33m=\u001b[0m \u001b[0mself\u001b[0m\u001b[1;33m.\u001b[0m\u001b[0mxname\u001b[0m\u001b[1;33m,\u001b[0m\u001b[0mself\u001b[0m\u001b[1;33m.\u001b[0m\u001b[0mxmin\u001b[0m\u001b[1;33m,\u001b[0m\u001b[0mself\u001b[0m\u001b[1;33m.\u001b[0m\u001b[0mxmax\u001b[0m\u001b[1;33m,\u001b[0m\u001b[0mself\u001b[0m\u001b[1;33m.\u001b[0m\u001b[0mxbins\u001b[0m\u001b[1;33m\u001b[0m\u001b[0m\n\u001b[0;32m     86\u001b[0m \u001b[1;33m\u001b[0m\u001b[0m\n\u001b[1;32m---> 87\u001b[1;33m         \u001b[0mx\u001b[0m\u001b[1;33m,\u001b[0m\u001b[0mc\u001b[0m \u001b[1;33m=\u001b[0m \u001b[0mget_1d_hist\u001b[0m\u001b[1;33m(\u001b[0m\u001b[0mxname\u001b[0m\u001b[1;33m,\u001b[0m\u001b[0mxmin\u001b[0m\u001b[1;33m,\u001b[0m\u001b[0mxmax\u001b[0m\u001b[1;33m,\u001b[0m\u001b[0mxbins\u001b[0m\u001b[1;33m,\u001b[0m\u001b[0mes\u001b[0m\u001b[1;33m,\u001b[0m\u001b[0mindex\u001b[0m \u001b[1;33m=\u001b[0m \u001b[0mindex\u001b[0m\u001b[1;33m)\u001b[0m\u001b[1;33m\u001b[0m\u001b[0m\n\u001b[0m\u001b[0;32m     88\u001b[0m         \u001b[0mself\u001b[0m\u001b[1;33m.\u001b[0m\u001b[0mbinx\u001b[0m\u001b[1;33m,\u001b[0m \u001b[0mself\u001b[0m\u001b[1;33m.\u001b[0m\u001b[0mbinc\u001b[0m \u001b[1;33m=\u001b[0m \u001b[0mx\u001b[0m\u001b[1;33m,\u001b[0m\u001b[0mc\u001b[0m\u001b[1;33m\u001b[0m\u001b[0m\n\u001b[0;32m     89\u001b[0m         \u001b[1;32mreturn\u001b[0m \u001b[0mx\u001b[0m\u001b[1;33m,\u001b[0m\u001b[0mc\u001b[0m\u001b[1;33m\u001b[0m\u001b[0m\n",
      "\u001b[1;32m/notebooks/bokeh-server/elastic/queries.pyc\u001b[0m in \u001b[0;36mget_1d_hist\u001b[1;34m(xname, xmin, xmax, xbins, es, index)\u001b[0m\n\u001b[0;32m     24\u001b[0m         }\n\u001b[0;32m     25\u001b[0m     }\n\u001b[1;32m---> 26\u001b[1;33m     \u001b[0mdata\u001b[0m \u001b[1;33m=\u001b[0m \u001b[0mes\u001b[0m\u001b[1;33m.\u001b[0m\u001b[0msearch\u001b[0m\u001b[1;33m(\u001b[0m\u001b[0mindex\u001b[0m\u001b[1;33m=\u001b[0m\u001b[0mindex\u001b[0m\u001b[1;33m,\u001b[0m\u001b[0mbody\u001b[0m\u001b[1;33m=\u001b[0m\u001b[0mquery_dsl\u001b[0m\u001b[1;33m)\u001b[0m\u001b[1;33m[\u001b[0m\u001b[1;34m\"aggregations\"\u001b[0m\u001b[1;33m]\u001b[0m\u001b[1;33m[\u001b[0m\u001b[1;34m\"1d_hist\"\u001b[0m\u001b[1;33m]\u001b[0m\u001b[1;33m[\u001b[0m\u001b[1;34m\"buckets\"\u001b[0m\u001b[1;33m]\u001b[0m\u001b[1;33m\u001b[0m\u001b[0m\n\u001b[0m\u001b[0;32m     27\u001b[0m \u001b[1;33m\u001b[0m\u001b[0m\n\u001b[0;32m     28\u001b[0m     \u001b[0mbins_list\u001b[0m \u001b[1;33m=\u001b[0m \u001b[0mparse_terms_1d\u001b[0m\u001b[1;33m(\u001b[0m\u001b[0mdata\u001b[0m\u001b[1;33m,\u001b[0m\u001b[0mxmin\u001b[0m\u001b[1;33m,\u001b[0m\u001b[0mxmax\u001b[0m\u001b[1;33m,\u001b[0m\u001b[0mxbins\u001b[0m\u001b[1;33m)\u001b[0m\u001b[1;33m\u001b[0m\u001b[0m\n",
      "\u001b[1;32m/usr/local/lib/python2.7/dist-packages/elasticsearch/client/utils.pyc\u001b[0m in \u001b[0;36m_wrapped\u001b[1;34m(*args, **kwargs)\u001b[0m\n\u001b[0;32m     67\u001b[0m                 \u001b[1;32mif\u001b[0m \u001b[0mp\u001b[0m \u001b[1;32min\u001b[0m \u001b[0mkwargs\u001b[0m\u001b[1;33m:\u001b[0m\u001b[1;33m\u001b[0m\u001b[0m\n\u001b[0;32m     68\u001b[0m                     \u001b[0mparams\u001b[0m\u001b[1;33m[\u001b[0m\u001b[0mp\u001b[0m\u001b[1;33m]\u001b[0m \u001b[1;33m=\u001b[0m \u001b[0mkwargs\u001b[0m\u001b[1;33m.\u001b[0m\u001b[0mpop\u001b[0m\u001b[1;33m(\u001b[0m\u001b[0mp\u001b[0m\u001b[1;33m)\u001b[0m\u001b[1;33m\u001b[0m\u001b[0m\n\u001b[1;32m---> 69\u001b[1;33m             \u001b[1;32mreturn\u001b[0m \u001b[0mfunc\u001b[0m\u001b[1;33m(\u001b[0m\u001b[1;33m*\u001b[0m\u001b[0margs\u001b[0m\u001b[1;33m,\u001b[0m \u001b[0mparams\u001b[0m\u001b[1;33m=\u001b[0m\u001b[0mparams\u001b[0m\u001b[1;33m,\u001b[0m \u001b[1;33m**\u001b[0m\u001b[0mkwargs\u001b[0m\u001b[1;33m)\u001b[0m\u001b[1;33m\u001b[0m\u001b[0m\n\u001b[0m\u001b[0;32m     70\u001b[0m         \u001b[1;32mreturn\u001b[0m \u001b[0m_wrapped\u001b[0m\u001b[1;33m\u001b[0m\u001b[0m\n\u001b[0;32m     71\u001b[0m     \u001b[1;32mreturn\u001b[0m \u001b[0m_wrapper\u001b[0m\u001b[1;33m\u001b[0m\u001b[0m\n",
      "\u001b[1;32m/usr/local/lib/python2.7/dist-packages/elasticsearch/client/__init__.pyc\u001b[0m in \u001b[0;36msearch\u001b[1;34m(self, index, doc_type, body, params)\u001b[0m\n\u001b[0;32m    525\u001b[0m             \u001b[0mindex\u001b[0m \u001b[1;33m=\u001b[0m \u001b[1;34m'_all'\u001b[0m\u001b[1;33m\u001b[0m\u001b[0m\n\u001b[0;32m    526\u001b[0m         _, data = self.transport.perform_request('GET', _make_path(index,\n\u001b[1;32m--> 527\u001b[1;33m             doc_type, '_search'), params=params, body=body)\n\u001b[0m\u001b[0;32m    528\u001b[0m         \u001b[1;32mreturn\u001b[0m \u001b[0mdata\u001b[0m\u001b[1;33m\u001b[0m\u001b[0m\n\u001b[0;32m    529\u001b[0m \u001b[1;33m\u001b[0m\u001b[0m\n",
      "\u001b[1;32m/usr/local/lib/python2.7/dist-packages/elasticsearch/transport.pyc\u001b[0m in \u001b[0;36mperform_request\u001b[1;34m(self, method, url, params, body)\u001b[0m\n\u001b[0;32m    305\u001b[0m \u001b[1;33m\u001b[0m\u001b[0m\n\u001b[0;32m    306\u001b[0m             \u001b[1;32mtry\u001b[0m\u001b[1;33m:\u001b[0m\u001b[1;33m\u001b[0m\u001b[0m\n\u001b[1;32m--> 307\u001b[1;33m                 \u001b[0mstatus\u001b[0m\u001b[1;33m,\u001b[0m \u001b[0mheaders\u001b[0m\u001b[1;33m,\u001b[0m \u001b[0mdata\u001b[0m \u001b[1;33m=\u001b[0m \u001b[0mconnection\u001b[0m\u001b[1;33m.\u001b[0m\u001b[0mperform_request\u001b[0m\u001b[1;33m(\u001b[0m\u001b[0mmethod\u001b[0m\u001b[1;33m,\u001b[0m \u001b[0murl\u001b[0m\u001b[1;33m,\u001b[0m \u001b[0mparams\u001b[0m\u001b[1;33m,\u001b[0m \u001b[0mbody\u001b[0m\u001b[1;33m,\u001b[0m \u001b[0mignore\u001b[0m\u001b[1;33m=\u001b[0m\u001b[0mignore\u001b[0m\u001b[1;33m,\u001b[0m \u001b[0mtimeout\u001b[0m\u001b[1;33m=\u001b[0m\u001b[0mtimeout\u001b[0m\u001b[1;33m)\u001b[0m\u001b[1;33m\u001b[0m\u001b[0m\n\u001b[0m\u001b[0;32m    308\u001b[0m \u001b[1;33m\u001b[0m\u001b[0m\n\u001b[0;32m    309\u001b[0m             \u001b[1;32mexcept\u001b[0m \u001b[0mTransportError\u001b[0m \u001b[1;32mas\u001b[0m \u001b[0me\u001b[0m\u001b[1;33m:\u001b[0m\u001b[1;33m\u001b[0m\u001b[0m\n",
      "\u001b[1;32m/usr/local/lib/python2.7/dist-packages/elasticsearch/connection/http_urllib3.pyc\u001b[0m in \u001b[0;36mperform_request\u001b[1;34m(self, method, url, params, body, timeout, ignore)\u001b[0m\n\u001b[0;32m     87\u001b[0m         \u001b[1;32mexcept\u001b[0m \u001b[0mException\u001b[0m \u001b[1;32mas\u001b[0m \u001b[0me\u001b[0m\u001b[1;33m:\u001b[0m\u001b[1;33m\u001b[0m\u001b[0m\n\u001b[0;32m     88\u001b[0m             \u001b[0mself\u001b[0m\u001b[1;33m.\u001b[0m\u001b[0mlog_request_fail\u001b[0m\u001b[1;33m(\u001b[0m\u001b[0mmethod\u001b[0m\u001b[1;33m,\u001b[0m \u001b[0mfull_url\u001b[0m\u001b[1;33m,\u001b[0m \u001b[0mbody\u001b[0m\u001b[1;33m,\u001b[0m \u001b[0mtime\u001b[0m\u001b[1;33m.\u001b[0m\u001b[0mtime\u001b[0m\u001b[1;33m(\u001b[0m\u001b[1;33m)\u001b[0m \u001b[1;33m-\u001b[0m \u001b[0mstart\u001b[0m\u001b[1;33m,\u001b[0m \u001b[0mexception\u001b[0m\u001b[1;33m=\u001b[0m\u001b[0me\u001b[0m\u001b[1;33m)\u001b[0m\u001b[1;33m\u001b[0m\u001b[0m\n\u001b[1;32m---> 89\u001b[1;33m             \u001b[1;32mraise\u001b[0m \u001b[0mConnectionError\u001b[0m\u001b[1;33m(\u001b[0m\u001b[1;34m'N/A'\u001b[0m\u001b[1;33m,\u001b[0m \u001b[0mstr\u001b[0m\u001b[1;33m(\u001b[0m\u001b[0me\u001b[0m\u001b[1;33m)\u001b[0m\u001b[1;33m,\u001b[0m \u001b[0me\u001b[0m\u001b[1;33m)\u001b[0m\u001b[1;33m\u001b[0m\u001b[0m\n\u001b[0m\u001b[0;32m     90\u001b[0m \u001b[1;33m\u001b[0m\u001b[0m\n\u001b[0;32m     91\u001b[0m         \u001b[1;32mif\u001b[0m \u001b[1;32mnot\u001b[0m \u001b[1;33m(\u001b[0m\u001b[1;36m200\u001b[0m \u001b[1;33m<=\u001b[0m \u001b[0mresponse\u001b[0m\u001b[1;33m.\u001b[0m\u001b[0mstatus\u001b[0m \u001b[1;33m<\u001b[0m \u001b[1;36m300\u001b[0m\u001b[1;33m)\u001b[0m \u001b[1;32mand\u001b[0m \u001b[0mresponse\u001b[0m\u001b[1;33m.\u001b[0m\u001b[0mstatus\u001b[0m \u001b[1;32mnot\u001b[0m \u001b[1;32min\u001b[0m \u001b[0mignore\u001b[0m\u001b[1;33m:\u001b[0m\u001b[1;33m\u001b[0m\u001b[0m\n",
      "\u001b[1;31mConnectionError\u001b[0m: ConnectionError(<urllib3.connection.HTTPConnection object at 0x7faffec31e50>: Failed to establish a new connection: [Errno 111] Connection refused) caused by: NewConnectionError(<urllib3.connection.HTTPConnection object at 0x7faffec31e50>: Failed to establish a new connection: [Errno 111] Connection refused)"
     ]
    }
   ],
   "source": [
    "execfile(\"dashboards/demo1_dashboard.py\")"
   ]
  },
  {
   "cell_type": "code",
   "execution_count": 1,
   "metadata": {
    "collapsed": false
   },
   "outputs": [
    {
     "name": "stdout",
     "output_type": "stream",
     "text": [
      "initializing...\n",
      "preaparing widgets...\n",
      "publishing plots...\n"
     ]
    },
    {
     "name": "stderr",
     "output_type": "stream",
     "text": [
      "/usr/local/lib/python2.7/dist-packages/bokeh/plotting_helpers.py:295: UserWarning: WheelZoomTool are being repeated\n",
      "  warnings.warn(\"%s are being repeated\" % \",\".join(repeated_tools))\n"
     ]
    },
    {
     "data": {
      "text/html": [
       "<script\n",
       "    src=\"http://0.0.0.0:7010/bokeh/autoload.js/4ee4d800-e1ba-430b-b27a-13f2f94b3fca\"\n",
       "    id=\"4ee4d800-e1ba-430b-b27a-13f2f94b3fca\"\n",
       "    async=\"true\"\n",
       "    data-bokeh-data=\"server\"\n",
       "    data-bokeh-modelid=\"68bd236b-5090-42ae-9003-1e02656d4228\"\n",
       "    data-bokeh-root-url=\"http://0.0.0.0:7010/\"\n",
       "    data-bokeh-docid=\"3ec04f0e-51aa-46a8-aafa-48f4c4eadf2b\"\n",
       "    \n",
       "    data-bokeh-docapikey=\"2936f552-84b7-4bf5-a629-457816bbc851\"\n",
       "    \n",
       "    data-bokeh-loglevel=\"info\"\n",
       "></script>"
      ]
     },
     "metadata": {},
     "output_type": "display_data"
    },
    {
     "data": {
      "text/html": [
       "<script\n",
       "    src=\"http://0.0.0.0:7010/bokeh/autoload.js/af20d16a-9b3b-485d-a473-a4fea9cc5b1e\"\n",
       "    id=\"af20d16a-9b3b-485d-a473-a4fea9cc5b1e\"\n",
       "    async=\"true\"\n",
       "    data-bokeh-data=\"server\"\n",
       "    data-bokeh-modelid=\"737757d5-1554-4a7b-ab27-d2547fd99792\"\n",
       "    data-bokeh-root-url=\"http://0.0.0.0:7010/\"\n",
       "    data-bokeh-docid=\"3ec04f0e-51aa-46a8-aafa-48f4c4eadf2b\"\n",
       "    \n",
       "    data-bokeh-docapikey=\"2936f552-84b7-4bf5-a629-457816bbc851\"\n",
       "    \n",
       "    data-bokeh-loglevel=\"info\"\n",
       "></script>"
      ]
     },
     "metadata": {},
     "output_type": "display_data"
    },
    {
     "data": {
      "text/html": [
       "<script\n",
       "    src=\"http://0.0.0.0:7010/bokeh/autoload.js/63b03d97-cac5-4c5a-88f4-51ab971a5899\"\n",
       "    id=\"63b03d97-cac5-4c5a-88f4-51ab971a5899\"\n",
       "    async=\"true\"\n",
       "    data-bokeh-data=\"server\"\n",
       "    data-bokeh-modelid=\"b9043cd7-66c6-420d-b9d9-bbebc827e6c7\"\n",
       "    data-bokeh-root-url=\"http://0.0.0.0:7010/\"\n",
       "    data-bokeh-docid=\"3ec04f0e-51aa-46a8-aafa-48f4c4eadf2b\"\n",
       "    \n",
       "    data-bokeh-docapikey=\"2936f552-84b7-4bf5-a629-457816bbc851\"\n",
       "    \n",
       "    data-bokeh-loglevel=\"info\"\n",
       "></script>"
      ]
     },
     "metadata": {},
     "output_type": "display_data"
    },
    {
     "data": {
      "text/html": [
       "<script\n",
       "    src=\"http://0.0.0.0:7010/bokeh/autoload.js/45d4d831-55f2-4445-9658-730495bb751d\"\n",
       "    id=\"45d4d831-55f2-4445-9658-730495bb751d\"\n",
       "    async=\"true\"\n",
       "    data-bokeh-data=\"server\"\n",
       "    data-bokeh-modelid=\"b86d630a-7a2a-4ad2-98b9-36d1ede9c595\"\n",
       "    data-bokeh-root-url=\"http://0.0.0.0:7010/\"\n",
       "    data-bokeh-docid=\"3ec04f0e-51aa-46a8-aafa-48f4c4eadf2b\"\n",
       "    \n",
       "    data-bokeh-docapikey=\"2936f552-84b7-4bf5-a629-457816bbc851\"\n",
       "    \n",
       "    data-bokeh-loglevel=\"info\"\n",
       "></script>"
      ]
     },
     "metadata": {},
     "output_type": "display_data"
    },
    {
     "name": "stdout",
     "output_type": "stream",
     "text": [
      "creating static links...\n",
      "saving widget scripts...\n",
      "dashboard dashboard1 ready.\n"
     ]
    }
   ],
   "source": [
    "import dashboards.demo1_dashboard as demo1\n",
    "demo1.prepare_widgets()\n"
   ]
  },
  {
   "cell_type": "code",
   "execution_count": 3,
   "metadata": {
    "collapsed": false
   },
   "outputs": [
    {
     "ename": "AttributeError",
     "evalue": "unexpected attribute 'id' to VBox, possible attributes are children, disabled, height, name, session, tags or width",
     "output_type": "error",
     "traceback": [
      "\u001b[1;31m---------------------------------------------------------------------------\u001b[0m",
      "\u001b[1;31mAttributeError\u001b[0m                            Traceback (most recent call last)",
      "\u001b[1;32m<ipython-input-3-4c60a29db15e>\u001b[0m in \u001b[0;36m<module>\u001b[1;34m()\u001b[0m\n\u001b[1;32m----> 1\u001b[1;33m \u001b[0mdemo1\u001b[0m\u001b[1;33m.\u001b[0m\u001b[0mwhole_dashboard\u001b[0m\u001b[1;33m.\u001b[0m\u001b[0mset\u001b[0m\u001b[1;33m(\u001b[0m\u001b[0mid\u001b[0m\u001b[1;33m=\u001b[0m\u001b[1;34m\"111\"\u001b[0m\u001b[1;33m)\u001b[0m\u001b[1;33m\u001b[0m\u001b[0m\n\u001b[0m",
      "\u001b[1;32m/usr/local/lib/python2.7/dist-packages/bokeh/properties.pyc\u001b[0m in \u001b[0;36mset\u001b[1;34m(self, **kwargs)\u001b[0m\n\u001b[0;32m    469\u001b[0m         \u001b[1;34m\"\"\" Sets a number of properties at once \"\"\"\u001b[0m\u001b[1;33m\u001b[0m\u001b[0m\n\u001b[0;32m    470\u001b[0m         \u001b[1;32mfor\u001b[0m \u001b[0mkw\u001b[0m \u001b[1;32min\u001b[0m \u001b[0mkwargs\u001b[0m\u001b[1;33m:\u001b[0m\u001b[1;33m\u001b[0m\u001b[0m\n\u001b[1;32m--> 471\u001b[1;33m             \u001b[0msetattr\u001b[0m\u001b[1;33m(\u001b[0m\u001b[0mself\u001b[0m\u001b[1;33m,\u001b[0m \u001b[0mkw\u001b[0m\u001b[1;33m,\u001b[0m \u001b[0mkwargs\u001b[0m\u001b[1;33m[\u001b[0m\u001b[0mkw\u001b[0m\u001b[1;33m]\u001b[0m\u001b[1;33m)\u001b[0m\u001b[1;33m\u001b[0m\u001b[0m\n\u001b[0m\u001b[0;32m    472\u001b[0m \u001b[1;33m\u001b[0m\u001b[0m\n\u001b[0;32m    473\u001b[0m     \u001b[1;32mdef\u001b[0m \u001b[0mpprint_props\u001b[0m\u001b[1;33m(\u001b[0m\u001b[0mself\u001b[0m\u001b[1;33m,\u001b[0m \u001b[0mindent\u001b[0m\u001b[1;33m=\u001b[0m\u001b[1;36m0\u001b[0m\u001b[1;33m)\u001b[0m\u001b[1;33m:\u001b[0m\u001b[1;33m\u001b[0m\u001b[0m\n",
      "\u001b[1;32m/usr/local/lib/python2.7/dist-packages/bokeh/properties.pyc\u001b[0m in \u001b[0;36m__setattr__\u001b[1;34m(self, name, value)\u001b[0m\n\u001b[0;32m    376\u001b[0m \u001b[1;33m\u001b[0m\u001b[0m\n\u001b[0;32m    377\u001b[0m             raise AttributeError(\"unexpected attribute '%s' to %s, %s attributes are %s\" %\n\u001b[1;32m--> 378\u001b[1;33m                 (name, self.__class__.__name__, text, nice_join(matches)))\n\u001b[0m\u001b[0;32m    379\u001b[0m \u001b[1;33m\u001b[0m\u001b[0m\n\u001b[0;32m    380\u001b[0m     \u001b[1;32mdef\u001b[0m \u001b[0mclone\u001b[0m\u001b[1;33m(\u001b[0m\u001b[0mself\u001b[0m\u001b[1;33m)\u001b[0m\u001b[1;33m:\u001b[0m\u001b[1;33m\u001b[0m\u001b[0m\n",
      "\u001b[1;31mAttributeError\u001b[0m: unexpected attribute 'id' to VBox, possible attributes are children, disabled, height, name, session, tags or width"
     ]
    }
   ],
   "source": []
  },
  {
   "cell_type": "code",
   "execution_count": 59,
   "metadata": {
    "collapsed": false
   },
   "outputs": [
    {
     "ename": "TypeError",
     "evalue": "get_json() takes at least 2 arguments (1 given)",
     "output_type": "error",
     "traceback": [
      "\u001b[1;31m---------------------------------------------------------------------------\u001b[0m",
      "\u001b[1;31mTypeError\u001b[0m                                 Traceback (most recent call last)",
      "\u001b[1;32m<ipython-input-59-929f0b5e32b4>\u001b[0m in \u001b[0;36m<module>\u001b[1;34m()\u001b[0m\n\u001b[1;32m----> 1\u001b[1;33m \u001b[0mclient\u001b[0m\u001b[1;33m.\u001b[0m\u001b[0mget_json\u001b[0m\u001b[1;33m(\u001b[0m\u001b[1;33m)\u001b[0m\u001b[1;33m\u001b[0m\u001b[0m\n\u001b[0m",
      "\u001b[1;31mTypeError\u001b[0m: get_json() takes at least 2 arguments (1 given)"
     ]
    }
   ],
   "source": [
    "import"
   ]
  },
  {
   "cell_type": "code",
   "execution_count": 12,
   "metadata": {
    "collapsed": false
   },
   "outputs": [
    {
     "data": {
      "text/plain": [
       "'http://0.0.0.0/7010/bokeh/doc/3ec04f0e-51aa-46a8-aafa-48f4c4eadf2b/737757d5-1554-4a7b-ab27-d2547fd99792'"
      ]
     },
     "execution_count": 12,
     "metadata": {},
     "output_type": "execute_result"
    }
   ],
   "source": [
    "script=\"\"\"<script\n",
    "    src=\"http://0.0.0.0:7010/bokeh/autoload.js/2f3cc9be-85e6-4e59-ac49-86c8af37332f\"\n",
    "    id=\"2f3cc9be-85e6-4e59-ac49-86c8af37332f\"\n",
    "    async=\"true\"\n",
    "    data-bokeh-data=\"server\"\n",
    "    data-bokeh-modelid=\"737757d5-1554-4a7b-ab27-d2547fd99792\"\n",
    "    data-bokeh-root-url=\"http://0.0.0.0:7010/\"\n",
    "    data-bokeh-docid=\"3ec04f0e-51aa-46a8-aafa-48f4c4eadf2b\"\n",
    "    \n",
    "    data-bokeh-public=\"true\"\n",
    "    \n",
    "    data-bokeh-loglevel=\"info\"\n",
    "></script>\"\"\"\n",
    "\n",
    "def get_chart_link(script,server_addr):\n",
    "    \"\"\"makes a static hyperlink from static script\"\"\"\n",
    "    chart_id = script[script.index(\"data-bokeh-modelid\")+ len(\"data-bokeh-modelid\")+2:]\n",
    "    chart_id = chart_id[:chart_id.index('\\n')-1]\n",
    "\n",
    "    doc_id = script[script.index(\"data-bokeh-docid\")+ len(\"data-bokeh-docid\")+2:]\n",
    "    doc_id = doc_id[:doc_id.index('\\n')-1]\n",
    "    return server_addr+ \"bokeh/doc/{}/{}\".format(doc_id,chart_id)\n",
    "\n",
    "get_chart_link(script,\"http://0.0.0.0/7010/\")"
   ]
  },
  {
   "cell_type": "code",
   "execution_count": 41,
   "metadata": {
    "collapsed": false
   },
   "outputs": [
    {
     "data": {
      "text/plain": [
       "'http://0.0.0.0:7010/bokeh/autoload.js/6fffaddf-abf5-490b-949c-781ad3f3d040'"
      ]
     },
     "execution_count": 41,
     "metadata": {},
     "output_type": "execute_result"
    }
   ],
   "source": [
    "script"
   ]
  },
  {
   "cell_type": "code",
   "execution_count": 23,
   "metadata": {
    "collapsed": false,
    "scrolled": true
   },
   "outputs": [],
   "source": [
    "import htmllib,formatter\n",
    "\n",
    "parser = htmllib.HTMLParser(formatter.NullFormatter())\n",
    "parser.feed(src)\n",
    "parser.close()"
   ]
  },
  {
   "cell_type": "code",
   "execution_count": 29,
   "metadata": {
    "collapsed": false
   },
   "outputs": [],
   "source": []
  }
 ],
 "metadata": {
  "kernelspec": {
   "display_name": "Python 2",
   "language": "python",
   "name": "python2"
  },
  "language_info": {
   "codemirror_mode": {
    "name": "ipython",
    "version": 2
   },
   "file_extension": ".py",
   "mimetype": "text/x-python",
   "name": "python",
   "nbconvert_exporter": "python",
   "pygments_lexer": "ipython2",
   "version": "2.7.6"
  }
 },
 "nbformat": 4,
 "nbformat_minor": 0
}
