{
 "cells": [
  {
   "cell_type": "code",
   "execution_count": null,
   "metadata": {
    "collapsed": false
   },
   "outputs": [],
   "source": [
    "import ROOT\n",
    "from root_numpy import random_sample\n",
    "\n",
    "addr= \"hists/Moore1HistAdder-154803-20150614T005209-EOR.root\"\n",
    "\n",
    "rfile = ROOT.TFile(addr)\n",
    "hist = rfile.Get(\"Hlt1RoutingBitsWriter/RoutingBit33\")\n"
   ]
  },
  {
   "cell_type": "code",
   "execution_count": null,
   "metadata": {
    "collapsed": false
   },
   "outputs": [],
   "source": [
    "from zmq_client import Client\n",
    "import time\n",
    "client = Client()\n",
    "while True:\n",
    "    arr = random_sample(hist, 1E6)\n",
    "    client.send(arr)\n",
    "    time.sleep(0.1)"
   ]
  }
 ],
 "metadata": {
  "kernelspec": {
   "display_name": "Python 2",
   "language": "python",
   "name": "python2"
  },
  "language_info": {
   "codemirror_mode": {
    "name": "ipython",
    "version": 2
   },
   "file_extension": ".py",
   "mimetype": "text/x-python",
   "name": "python",
   "nbconvert_exporter": "python",
   "pygments_lexer": "ipython2",
   "version": "2.7.6"
  }
 },
 "nbformat": 4,
 "nbformat_minor": 0
}
