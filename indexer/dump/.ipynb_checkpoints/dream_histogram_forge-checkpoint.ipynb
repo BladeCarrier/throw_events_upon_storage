{
 "cells": [
  {
   "cell_type": "code",
   "execution_count": 69,
   "metadata": {
    "collapsed": false
   },
   "outputs": [],
   "source": [
    "import ROOT\n",
    "from root_numpy import random_sample\n",
    "from rootpy.plotting import Hist\n",
    "import root_numpy\n",
    "import numpy as np"
   ]
  },
  {
   "cell_type": "code",
   "execution_count": 86,
   "metadata": {
    "collapsed": false
   },
   "outputs": [],
   "source": [
    "name = \"../../hists/YetAnotherHist_phi.root\"\n",
    "tree = \"Hlt1RoutingBitsWriter\"\n",
    "branch = \"RoutingBit33\"\n",
    "xmin,xmax,xbins =1000,1040,100"
   ]
  },
  {
   "cell_type": "code",
   "execution_count": 97,
   "metadata": {
    "collapsed": false
   },
   "outputs": [],
   "source": [
    "data = np.hstack([ np.random.normal(xmin+30,3.,4000), xmin+np.random.exponential(50.,6000)])\n",
    "counts,bin_separators = np.histogram(data,bins = xbins,range=[xmin,xmax])"
   ]
  },
  {
   "cell_type": "code",
   "execution_count": 98,
   "metadata": {
    "collapsed": false
   },
   "outputs": [
    {
     "name": "stdout",
     "output_type": "stream",
     "text": [
      "518\n",
      "518\n"
     ]
    }
   ],
   "source": [
    "rfile = ROOT.TFile(name,\"recreate\")\n",
    "rfile.cd()\n",
    "#rt = ROOT.TTree(tree,tree)\n",
    "#rt.cd()\n",
    "hist = ROOT.TH1D(branch,branch,xbins,xmin,xmax)\n",
    "for i,count in enumerate(counts):\n",
    "    hist.SetBinContent(i,count)\n",
    "    \n",
    "print hist.Write()\n",
    "#print rt.Write()\n",
    "print rfile.Write()\n",
    "rfile.Close()\n"
   ]
  },
  {
   "cell_type": "code",
   "execution_count": 99,
   "metadata": {
    "collapsed": false
   },
   "outputs": [
    {
     "name": "stdout",
     "output_type": "stream",
     "text": [
      "<ROOT.TH1D object (\"RoutingBit33\") at 0x2d74ff0>\n"
     ]
    }
   ],
   "source": [
    "rfile2 = ROOT.TFile(name)\n",
    "hist = rfile2.Get(branch)\n",
    "print hist\n",
    "arr = random_sample(hist, 1E5)"
   ]
  },
  {
   "cell_type": "code",
   "execution_count": 100,
   "metadata": {
    "collapsed": true
   },
   "outputs": [],
   "source": [
    "rfile2.Close()"
   ]
  },
  {
   "cell_type": "code",
   "execution_count": 101,
   "metadata": {
    "collapsed": false
   },
   "outputs": [
    {
     "data": {
      "image/png": "[encoded data removed]",
      "text/plain": [
       "<matplotlib.figure.Figure at 0x7f53e7637250>"
      ]
     },
     "metadata": {},
     "output_type": "display_data"
    }
   ],
   "source": [
    "import matplotlib.pyplot as plt\n",
    "%matplotlib inline\n",
    "\n",
    "_=plt.hist(arr,xbins)"
   ]
  },
  {
   "cell_type": "code",
   "execution_count": 68,
   "metadata": {
    "collapsed": false
   },
   "outputs": [
    {
     "data": {
      "text/plain": [
       "None"
      ]
     },
     "execution_count": 68,
     "metadata": {},
     "output_type": "execute_result"
    }
   ],
   "source": [
    "hist"
   ]
  },
  {
   "cell_type": "code",
   "execution_count": 66,
   "metadata": {
    "collapsed": false
   },
   "outputs": [
    {
     "data": {
      "text/plain": [
       "'hists/ArtificialHistWithAwesomeData0.root'"
      ]
     },
     "execution_count": 66,
     "metadata": {},
     "output_type": "execute_result"
    }
   ],
   "source": [
    "name"
   ]
  },
  {
   "cell_type": "code",
   "execution_count": 6,
   "metadata": {
    "collapsed": false
   },
   "outputs": [],
   "source": [
    "fileroot = ROOT.TFile(\"histos.root\", \"recreate\")\n",
    "h1 = ROOT.TH1F(\"hgaus\",\"histo from a gaussian\",100,-3,3)\n",
    "h1.FillRandom(\"gaus\", 10000)\n",
    "h1.Write()\n",
    "fileroot.Write()\n",
    "fileroot.Close()"
   ]
  },
  {
   "cell_type": "code",
   "execution_count": null,
   "metadata": {
    "collapsed": true
   },
   "outputs": [],
   "source": [
    "fileroot = ROOT.TFile(\"histos.root\", 'update')\n",
    "h = fileroot.Get(\"hgaus\")\n",
    "fileroot.Close()"
   ]
  },
  {
   "cell_type": "code",
   "execution_count": 56,
   "metadata": {
    "collapsed": false
   },
   "outputs": [],
   "source": []
  },
  {
   "cell_type": "code",
   "execution_count": 57,
   "metadata": {
    "collapsed": false
   },
   "outputs": [
    {
     "data": {
      "text/plain": [
       "<ROOT.TObject object at 0x(nil)>"
      ]
     },
     "execution_count": 57,
     "metadata": {},
     "output_type": "execute_result"
    }
   ],
   "source": [
    "hist2"
   ]
  },
  {
   "cell_type": "code",
   "execution_count": 19,
   "metadata": {
    "collapsed": false
   },
   "outputs": [
    {
     "name": "stdout",
     "output_type": "stream",
     "text": [
      "__init__.py                  event.py   indexer.py      zmq_event_bus.py\r\n",
      "__init__.pyc                 event.pyc  indexer.pyc\r\n",
      "dream_histogram_forge.ipynb  event.py~  zmq_client.py\r\n",
      "\u001b[0m\u001b[01;34mdump\u001b[0m/                        \u001b[01;34mhists\u001b[0m/     zmq_client.pyc\r\n"
     ]
    }
   ],
   "source": [
    "root_numpy.r"
   ]
  },
  {
   "cell_type": "code",
   "execution_count": 10,
   "metadata": {
    "collapsed": false
   },
   "outputs": [
    {
     "data": {
      "text/plain": [
       "None"
      ]
     },
     "execution_count": 10,
     "metadata": {},
     "output_type": "execute_result"
    }
   ],
   "source": [
    "hist2"
   ]
  },
  {
   "cell_type": "code",
   "execution_count": 54,
   "metadata": {
    "collapsed": false
   },
   "outputs": [
    {
     "data": {
      "text/plain": [
       "('hists/ArtificialHistWithAwesomeData0.root',\n",
       " 'Hlt1RoutingBitsWriter_RoutingBit33')"
      ]
     },
     "execution_count": 54,
     "metadata": {},
     "output_type": "execute_result"
    }
   ],
   "source": [
    "name,branch"
   ]
  }
 ],
 "metadata": {
  "kernelspec": {
   "display_name": "Python 2",
   "language": "python",
   "name": "python2"
  },
  "language_info": {
   "codemirror_mode": {
    "name": "ipython",
    "version": 2
   },
   "file_extension": ".py",
   "mimetype": "text/x-python",
   "name": "python",
   "nbconvert_exporter": "python",
   "pygments_lexer": "ipython2",
   "version": "2.7.6"
  }
 },
 "nbformat": 4,
 "nbformat_minor": 0
}
