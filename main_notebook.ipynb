{
 "cells": [
  {
   "cell_type": "markdown",
   "metadata": {},
   "source": [
    "##Я - тетрадка, которая всё запускает\n",
    "\n",
    "Dependencies:\n",
    "* Python 2, Ipython notebook\n",
    "* Docker, nshou/elasticsearch-kibana\n",
    "* numpy, ROOT, root_numpy, zmq\n",
    "\n",
    "\n",
    "How to launch a ES+kibana container:\n",
    "* sudo docker run -d -p 9200:9200 -p 5601:5601 nshou/elasticsearch-kibana\n",
    "* kibana висит на localhost:5601\n",
    "\n",
    "###запуск сервера zmq\n",
    "* просто кладёт входные пакеты в очередь и отдаёт их по мере просьб \"get\"\n",
    "* клиент-обёртка zmq_client.py\n",
    "* zmq.REP"
   ]
  },
  {
   "cell_type": "code",
   "execution_count": 1,
   "metadata": {
    "collapsed": false
   },
   "outputs": [
    {
     "data": {
      "text/plain": [
       "0"
      ]
     },
     "execution_count": 1,
     "metadata": {},
     "output_type": "execute_result"
    }
   ],
   "source": [
    "import os\n",
    "os.system('python zmq_server.py &')"
   ]
  },
  {
   "cell_type": "markdown",
   "metadata": {},
   "source": [
    "###Запуск клиента-генератора точек из ROOT и клиента-складывателя всего в ES"
   ]
  },
  {
   "cell_type": "code",
   "execution_count": 7,
   "metadata": {
    "collapsed": false
   },
   "outputs": [
    {
     "data": {
      "text/plain": [
       "0"
      ]
     },
     "execution_count": 7,
     "metadata": {},
     "output_type": "execute_result"
    }
   ],
   "source": [
    "os.system('python generator.py &')\n",
    "#ИЛИ\n",
    "#from generator import start_sending\n",
    "#start_sending(verbose=True)\n"
   ]
  },
  {
   "cell_type": "code",
   "execution_count": null,
   "metadata": {
    "collapsed": false
   },
   "outputs": [],
   "source": [
    "from indexer import start_indexing\n",
    "start_indexing()\n",
    "#ИЛИ os.system('python indexer.py &')"
   ]
  },
  {
   "cell_type": "code",
   "execution_count": null,
   "metadata": {
    "collapsed": true
   },
   "outputs": [],
   "source": []
  }
 ],
 "metadata": {
  "kernelspec": {
   "display_name": "Python 2",
   "language": "python",
   "name": "python2"
  },
  "language_info": {
   "codemirror_mode": {
    "name": "ipython",
    "version": 2
   },
   "file_extension": ".py",
   "mimetype": "text/x-python",
   "name": "python",
   "nbconvert_exporter": "python",
   "pygments_lexer": "ipython2",
   "version": "2.7.6"
  }
 },
 "nbformat": 4,
 "nbformat_minor": 0
}
