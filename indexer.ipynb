{
 "cells": [
  {
   "cell_type": "code",
   "execution_count": 13,
   "metadata": {
    "collapsed": true
   },
   "outputs": [],
   "source": [
    "import elasticsearch\n",
    "import time\n",
    "import json"
   ]
  },
  {
   "cell_type": "code",
   "execution_count": 6,
   "metadata": {
    "collapsed": false
   },
   "outputs": [
    {
     "data": {
      "text/plain": [
       "{u'acknowledged': True}"
      ]
     },
     "execution_count": 6,
     "metadata": {},
     "output_type": "execute_result"
    }
   ],
   "source": [
    "#initialize\n",
    "es = elasticsearch.Elasticsearch([\"http://localhost:9200/\"]) #in current project configuration\n",
    "\n",
    "#create\n",
    "es.indices.create(index='stored-events', ignore=400)\n"
   ]
  },
  {
   "cell_type": "code",
   "execution_count": 26,
   "metadata": {
    "collapsed": false
   },
   "outputs": [
    {
     "name": "stdout",
     "output_type": "stream",
     "text": [
      "nothing found...\n",
      "nothing found...\n",
      "nothing found...\n",
      "nothing found...\n",
      "nothing found...\n",
      "nothing found...\n",
      "nothing found...\n",
      "nothing found...\n",
      "nothing found...\n",
      "nothing found...\n",
      "nothing found...\n",
      "nothing found...\n",
      "nothing found...\n",
      "nothing found...\n",
      "nothing found...\n",
      "nothing found...\n",
      "nothing found...\n",
      "nothing found...\n",
      "nothing found...\n",
      "nothing found...\n",
      "nothing found...\n",
      "nothing found...\n",
      "nothing found...\n",
      "nothing found...\n",
      "nothing found...\n",
      "nothing found...\n"
     ]
    },
    {
     "ename": "KeyboardInterrupt",
     "evalue": "",
     "output_type": "error",
     "traceback": [
      "\u001b[1;31m---------------------------------------------------------------------------\u001b[0m",
      "\u001b[1;31mKeyboardInterrupt\u001b[0m                         Traceback (most recent call last)",
      "\u001b[1;32m<ipython-input-26-bd852f329c7c>\u001b[0m in \u001b[0;36m<module>\u001b[1;34m()\u001b[0m\n\u001b[0;32m      6\u001b[0m     \u001b[1;32mif\u001b[0m \u001b[0mans\u001b[0m \u001b[1;32mis\u001b[0m \u001b[0mNone\u001b[0m\u001b[1;33m:\u001b[0m\u001b[1;33m\u001b[0m\u001b[0m\n\u001b[0;32m      7\u001b[0m         \u001b[1;32mprint\u001b[0m \u001b[1;34m\"nothing found...\"\u001b[0m\u001b[1;33m\u001b[0m\u001b[0m\n\u001b[1;32m----> 8\u001b[1;33m         \u001b[0mtime\u001b[0m\u001b[1;33m.\u001b[0m\u001b[0msleep\u001b[0m\u001b[1;33m(\u001b[0m\u001b[1;36m0.1\u001b[0m\u001b[1;33m)\u001b[0m\u001b[1;33m\u001b[0m\u001b[0m\n\u001b[0m\u001b[0;32m      9\u001b[0m     \u001b[1;32melse\u001b[0m\u001b[1;33m:\u001b[0m\u001b[1;33m\u001b[0m\u001b[0m\n\u001b[0;32m     10\u001b[0m         es.index(index=\"events\",\n",
      "\u001b[1;31mKeyboardInterrupt\u001b[0m: "
     ]
    }
   ],
   "source": [
    "from zmq_client import Client\n",
    "client = Client()\n",
    "\n",
    "i=0\n",
    "while True:\n",
    "    ans = client.get()\n",
    "    if ans is None:\n",
    "        time.sleep(0.1)\n",
    "    else:\n",
    "        es.index(index=\"stored-events\",\n",
    "                 doc_type=\"events-bunch\",\n",
    "                 id=i,\n",
    "                 body={\n",
    "                    \"events\":json.dumps(list(ans)),\n",
    "                    \"timestamp\":json.dumps(list(time.gmtime()))\n",
    "                    })\n",
    "        i+=1\n"
   ]
  }
 ],
 "metadata": {
  "kernelspec": {
   "display_name": "Python 2",
   "language": "python",
   "name": "python2"
  },
  "language_info": {
   "codemirror_mode": {
    "name": "ipython",
    "version": 2
   },
   "file_extension": ".py",
   "mimetype": "text/x-python",
   "name": "python",
   "nbconvert_exporter": "python",
   "pygments_lexer": "ipython2",
   "version": "2.7.6"
  }
 },
 "nbformat": 4,
 "nbformat_minor": 0
}
