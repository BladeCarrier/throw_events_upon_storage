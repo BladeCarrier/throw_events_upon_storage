{
 "cells": [
  {
   "cell_type": "markdown",
   "metadata": {},
   "source": [
    "##Я - тетрадка, которая всё запускает\n",
    "\n",
    "Dependencies:\n",
    "* Python 2, Ipython notebook\n",
    "* Docker, nshou/elasticsearch-kibana\n",
    "* numpy, ROOT, root_numpy, zmq\n",
    "\n",
    "\n",
    "How to launch a ES+kibana container:\n",
    "* sudo docker run -d -p 9200:9200 -p 5601:5601 nshou/elasticsearch-kibana\n",
    "  \n",
    "\n",
    "\n",
    "###запуск сервера zmq\n",
    "* просто кладёт входные пакеты в очередь и отдаёт их по мере просьб \"get\"\n",
    "* периодически меняет run number\n",
    "* клиент-обёртка zmq_client.py\n",
    "* zmq.REP"
   ]
  },
  {
   "cell_type": "code",
   "execution_count": 1,
   "metadata": {
    "collapsed": false
   },
   "outputs": [
    {
     "data": {
      "text/plain": [
       "0"
      ]
     },
     "execution_count": 1,
     "metadata": {},
     "output_type": "execute_result"
    }
   ],
   "source": [
    "import os\n",
    "os.system('python indexer/zmq_event_bus.py &')"
   ]
  },
  {
   "cell_type": "markdown",
   "metadata": {},
   "source": [
    "###Запуск клиента-складывателя всего в ES\n",
    "* процесс-индексатор, который читает события пакетами из zmq_event_bus и пишет в ElasticSearch\n",
    "* Имя индекса - \"run\"+run_number\n",
    "* Недостающие индексы создаются"
   ]
  },
  {
   "cell_type": "code",
   "execution_count": 2,
   "metadata": {
    "collapsed": false
   },
   "outputs": [],
   "source": [
    "import indexer.indexer as indexer"
   ]
  },
  {
   "cell_type": "code",
   "execution_count": 3,
   "metadata": {
    "collapsed": false,
    "scrolled": true
   },
   "outputs": [
    {
     "name": "stderr",
     "output_type": "stream",
     "text": [
      "WARNING:elasticsearch:HEAD /run15000 [status:404 request:0.005s]\n"
     ]
    },
    {
     "name": "stdout",
     "output_type": "stream",
     "text": [
      "run id recieved: 15000\n",
      "new index created: run15000\n",
      "processing events...\n",
      "1"
     ]
    },
    {
     "name": "stderr",
     "output_type": "stream",
     "text": [
      "WARNING:elasticsearch:HEAD /run15001 [status:404 request:0.002s]\n"
     ]
    },
    {
     "name": "stdout",
     "output_type": "stream",
     "text": [
      " events indexed in current run_id\n",
      "run id recieved: 15001\n",
      "new index created: run15001\n",
      "processing events...\n",
      "456 events indexed in current run_id\n",
      "processing events...\n",
      "1026 events indexed in current run_id\n",
      "processing events...\n",
      "1159 events indexed in current run_id\n",
      "processing events...\n",
      "1525 events indexed in current run_id\n",
      "processing events...\n",
      "2242 events indexed in current run_id\n",
      "processing events...\n",
      "2842 events indexed in current run_id\n",
      "processing events...\n",
      "3382 events indexed in current run_id\n",
      "processing events...\n",
      "4214 events indexed in current run_id\n",
      "processing events...\n",
      "4787 events indexed in current run_id\n",
      "processing events...\n",
      "5019 events indexed in current run_id\n",
      "processing events...\n",
      "5355 events indexed in current run_id\n",
      "processing events...\n",
      "6153 events indexed in current run_id\n",
      "processing events...\n",
      "6617 events indexed in current run_id\n",
      "processing events...\n",
      "7128 events indexed in current run_id\n",
      "processing events...\n",
      "7705 events indexed in current run_id\n",
      "processing events...\n",
      "8098 events indexed in current run_id\n",
      "processing events...\n",
      "8624 events indexed in current run_id\n",
      "processing events...\n",
      "9218 events indexed in current run_id\n",
      "processing events...\n",
      "9595 events indexed in current run_id\n",
      "processing events...\n",
      "10207 events indexed in current run_id\n",
      "processing events...\n",
      "11108 events indexed in current run_id\n",
      "processing events...\n",
      "11295 events indexed in current run_id\n",
      "processing events...\n",
      "11662 events indexed in current run_id\n",
      "processing events...\n",
      "12091 events indexed in current run_id\n",
      "processing events...\n",
      "12500 events indexed in current run_id\n",
      "processing events...\n",
      "13136 events indexed in current run_id\n",
      "processing events...\n",
      "13577 events indexed in current run_id\n",
      "processing events...\n",
      "13978 events indexed in current run_id\n",
      "processing events...\n",
      "14638 events indexed in current run_id\n",
      "processing events...\n",
      "15050 events indexed in current run_id\n",
      "processing events...\n",
      "15051 events indexed in current run_id\n",
      "processing events...\n",
      "15460 events indexed in current run_id\n",
      "processing events...\n",
      "15880 events indexed in current run_id\n",
      "processing events...\n",
      "16425 events indexed in current run_id\n",
      "processing events...\n",
      "17019 events indexed in current run_id\n",
      "processing events...\n",
      "17770 events indexed in current run_id\n",
      "processing events...\n",
      "18116 events indexed in current run_id\n",
      "processing events...\n",
      "18764 events indexed in current run_id\n",
      "processing events...\n",
      "19617 events indexed in current run_id\n",
      "processing events...\n",
      "20545 events indexed in current run_id\n",
      "processing events...\n",
      "21326 events indexed in current run_id\n",
      "processing events...\n",
      "21777 events indexed in current run_id\n",
      "processing events...\n",
      "22004 events indexed in current run_id\n",
      "processing events...\n",
      "22795 events indexed in current run_id\n",
      "processing events...\n",
      "23410 events indexed in current run_id\n",
      "processing events...\n",
      "24046 events indexed in current run_id\n",
      "processing events...\n",
      "24703 events indexed in current run_id\n",
      "processing events...\n",
      "25099 events indexed in current run_id\n",
      "processing events...\n",
      "25377 events indexed in current run_id\n",
      "processing events...\n",
      "25907 events indexed in current run_id\n",
      "processing events...\n",
      "26306 events indexed in current run_id\n",
      "processing events...\n",
      "27053 events indexed in current run_id\n",
      "processing events...\n",
      "27740 events indexed in current run_id\n",
      "processing events...\n",
      "28448 events indexed in current run_id\n",
      "processing events...\n",
      "29220 events indexed in current run_id\n",
      "processing events...\n",
      "29777 events indexed in current run_id\n",
      "processing events...\n",
      "30020 events indexed in current run_id\n",
      "processing events...\n",
      "30546 events indexed in current run_id\n",
      "processing events...\n",
      "31494 events indexed in current run_id\n",
      "processing events...\n",
      "31972 events indexed in current run_id\n",
      "processing events...\n",
      "32521 events indexed in current run_id\n",
      "processing events...\n",
      "33127 events indexed in current run_id\n",
      "processing events...\n",
      "33582 events indexed in current run_id\n",
      "processing events...\n",
      "34379 events indexed in current run_id\n",
      "processing events...\n",
      "35140 events indexed in current run_id\n",
      "processing events...\n",
      "35508 events indexed in current run_id\n",
      "processing events...\n",
      "36152 events indexed in current run_id\n",
      "processing events...\n",
      "36660 events indexed in current run_id\n",
      "processing events...\n",
      "37234 events indexed in current run_id\n",
      "processing events...\n",
      "37839 events indexed in current run_id\n",
      "processing events...\n",
      "38556 events indexed in current run_id\n",
      "processing events...\n",
      "38824 events indexed in current run_id\n",
      "processing events...\n",
      "39225 events indexed in current run_id\n",
      "processing events...\n",
      "39466 events indexed in current run_id\n",
      "processing events...\n",
      "39920 events indexed in current run_id\n",
      "processing events...\n",
      "40445 events indexed in current run_id\n",
      "processing events...\n",
      "41054 events indexed in current run_id\n",
      "processing events...\n",
      "41475 events indexed in current run_id\n",
      "processing events...\n",
      "41858 events indexed in current run_id\n",
      "processing events...\n",
      "42275 events indexed in current run_id\n",
      "processing events...\n",
      "43212 events indexed in current run_id\n",
      "processing events...\n",
      "43427 events indexed in current run_id\n",
      "processing events...\n",
      "43697 events indexed in current run_id\n",
      "processing events...\n",
      "44483 events indexed in current run_id\n",
      "processing events...\n",
      "44749 events indexed in current run_id\n",
      "processing events...\n",
      "45393 events indexed in current run_id\n",
      "processing events...\n",
      "46163 events indexed in current run_id\n",
      "processing events...\n",
      "46609 events indexed in current run_id\n",
      "processing events...\n",
      "47307 events indexed in current run_id\n",
      "processing events...\n",
      "47428 events indexed in current run_id\n",
      "processing events...\n",
      "47804 events indexed in current run_id\n",
      "processing events...\n",
      "48302 events indexed in current run_id\n",
      "processing events...\n",
      "49013 events indexed in current run_id\n",
      "processing events...\n",
      "49820 events indexed in current run_id\n",
      "processing events...\n",
      "50028 events indexed in current run_id\n",
      "processing events...\n",
      "50845 events indexed in current run_id\n",
      "processing events...\n",
      "51433 events indexed in current run_id\n",
      "processing events...\n",
      "51939 events indexed in current run_id\n",
      "processing events...\n",
      "52309 events indexed in current run_id\n",
      "processing events...\n",
      "52554 events indexed in current run_id\n",
      "processing events...\n",
      "53185 events indexed in current run_id\n",
      "processing events...\n",
      "53781 events indexed in current run_id\n",
      "processing events...\n",
      "54319 events indexed in current run_id\n",
      "processing events...\n",
      "55185 events indexed in current run_id\n",
      "processing events...\n",
      "55417 events indexed in current run_id\n",
      "processing events...\n",
      "55645 events indexed in current run_id\n",
      "processing events...\n",
      "56248 events indexed in current run_id\n",
      "processing events...\n",
      "56689 events indexed in current run_id\n",
      "processing events...\n",
      "57202 events indexed in current run_id\n",
      "processing events...\n",
      "58042 events indexed in current run_id\n",
      "processing events...\n",
      "58418 events indexed in current run_id\n",
      "processing events...\n",
      "58541 events indexed in current run_id\n",
      "processing events...\n",
      "59191 events indexed in current run_id\n",
      "processing events...\n",
      "59983 events indexed in current run_id\n",
      "processing events...\n",
      "60680 events indexed in current run_id\n",
      "processing events...\n",
      "60869 events indexed in current run_id\n",
      "processing events...\n",
      "60892 events indexed in current run_id\n",
      "processing events...\n",
      "61054"
     ]
    },
    {
     "name": "stderr",
     "output_type": "stream",
     "text": [
      "WARNING:elasticsearch:HEAD /run15002 [status:404 request:0.001s]\n"
     ]
    },
    {
     "name": "stdout",
     "output_type": "stream",
     "text": [
      " events indexed in current run_id\n",
      "run id recieved: 15002\n",
      "new index created: run15002\n",
      "processing events...\n",
      "631 events indexed in current run_id\n",
      "processing events...\n",
      "1296 events indexed in current run_id\n",
      "processing events...\n",
      "2115 events indexed in current run_id\n",
      "processing events...\n",
      "2203 events indexed in current run_id\n",
      "processing events...\n",
      "2779 events indexed in current run_id\n",
      "processing events...\n",
      "3088 events indexed in current run_id\n",
      "processing events...\n",
      "3375 events indexed in current run_id\n",
      "processing events...\n",
      "3819 events indexed in current run_id\n",
      "processing events...\n",
      "4463 events indexed in current run_id\n",
      "processing events...\n",
      "5033 events indexed in current run_id\n",
      "processing events...\n",
      "5477 events indexed in current run_id\n",
      "processing events...\n",
      "5852 events indexed in current run_id\n",
      "processing events...\n",
      "6665 events indexed in current run_id\n",
      "processing events...\n",
      "7213 events indexed in current run_id\n",
      "processing events...\n",
      "7685 events indexed in current run_id\n",
      "processing events...\n",
      "8370 events indexed in current run_id\n",
      "processing events...\n",
      "9341 events indexed in current run_id\n",
      "processing events...\n",
      "9675 events indexed in current run_id\n",
      "processing events...\n",
      "9955 events indexed in current run_id\n",
      "processing events...\n",
      "10248 events indexed in current run_id\n",
      "processing events...\n",
      "10815 events indexed in current run_id\n",
      "processing events...\n",
      "11386 events indexed in current run_id\n",
      "processing events...\n",
      "12114 events indexed in current run_id\n",
      "processing events...\n",
      "12576 events indexed in current run_id\n",
      "processing events...\n",
      "13164 events indexed in current run_id\n",
      "processing events...\n",
      "13619 events indexed in current run_id\n",
      "processing events...\n",
      "14291 events indexed in current run_id\n",
      "processing events...\n",
      "15099 events indexed in current run_id\n",
      "processing events...\n",
      "15695 events indexed in current run_id\n",
      "processing events...\n",
      "15992 events indexed in current run_id\n",
      "processing events...\n",
      "16295 events indexed in current run_id\n",
      "processing events...\n",
      "16670 events indexed in current run_id\n",
      "processing events...\n",
      "17493 events indexed in current run_id\n",
      "processing events...\n",
      "17966 events indexed in current run_id\n",
      "processing events...\n",
      "18360 events indexed in current run_id\n",
      "processing events...\n",
      "18747 events indexed in current run_id\n",
      "processing events...\n",
      "19117 events indexed in current run_id\n",
      "processing events...\n",
      "19717 events indexed in current run_id\n",
      "processing events...\n",
      "20335 events indexed in current run_id\n",
      "processing events...\n",
      "20838 events indexed in current run_id\n",
      "processing events...\n",
      "21371 events indexed in current run_id\n",
      "processing events...\n",
      "21668 events indexed in current run_id\n",
      "processing events...\n",
      "22215 events indexed in current run_id\n",
      "processing events...\n",
      "22540 events indexed in current run_id\n",
      "processing events...\n",
      "23156 events indexed in current run_id\n",
      "processing events...\n",
      "23757 events indexed in current run_id\n",
      "processing events...\n",
      "24006 events indexed in current run_id\n",
      "processing events...\n",
      "24545 events indexed in current run_id\n",
      "processing events...\n",
      "25340 events indexed in current run_id\n",
      "processing events...\n",
      "25867 events indexed in current run_id\n",
      "processing events...\n",
      "26345 events indexed in current run_id\n",
      "processing events...\n",
      "26746 events indexed in current run_id\n",
      "processing events...\n",
      "27130 events indexed in current run_id\n",
      "processing events...\n",
      "27131 events indexed in current run_id\n",
      "processing events...\n",
      "27478 events indexed in current run_id\n",
      "processing events...\n",
      "27694 events indexed in current run_id\n",
      "processing events...\n",
      "28329 events indexed in current run_id\n",
      "processing events...\n",
      "28756 events indexed in current run_id\n",
      "processing events...\n",
      "29413 events indexed in current run_id\n",
      "processing events...\n",
      "30005 events indexed in current run_id\n",
      "processing events...\n",
      "30606 events indexed in current run_id\n",
      "processing events...\n",
      "31318 events indexed in current run_id\n",
      "processing events...\n",
      "31863 events indexed in current run_id\n",
      "processing events...\n",
      "32265 events indexed in current run_id\n",
      "processing events...\n",
      "32624 events indexed in current run_id\n",
      "processing events...\n",
      "33130 events indexed in current run_id\n",
      "processing events...\n",
      "33671 events indexed in current run_id\n",
      "processing events...\n",
      "33947 events indexed in current run_id\n",
      "processing events...\n",
      "34666 events indexed in current run_id\n",
      "processing events...\n",
      "35102 events indexed in current run_id\n",
      "processing events...\n",
      "35326 events indexed in current run_id\n",
      "processing events...\n",
      "35708 events indexed in current run_id\n",
      "processing events...\n",
      "36176 events indexed in current run_id\n",
      "processing events...\n",
      "36812 events indexed in current run_id\n",
      "processing events...\n",
      "37223 events indexed in current run_id\n",
      "processing events...\n",
      "37841 events indexed in current run_id\n",
      "processing events...\n",
      "38146 events indexed in current run_id\n",
      "processing events...\n",
      "38491 events indexed in current run_id\n",
      "processing events...\n",
      "38976 events indexed in current run_id\n",
      "processing events...\n",
      "39657 events indexed in current run_id\n",
      "processing events...\n",
      "40113 events indexed in current run_id\n",
      "processing events...\n",
      "40515 events indexed in current run_id\n",
      "processing events...\n",
      "41139 events indexed in current run_id\n",
      "processing events...\n",
      "41473 events indexed in current run_id\n",
      "processing events...\n",
      "41937 events indexed in current run_id\n",
      "processing events...\n",
      "42039"
     ]
    },
    {
     "name": "stderr",
     "output_type": "stream",
     "text": [
      "WARNING:elasticsearch:HEAD /run15003 [status:404 request:0.002s]\n"
     ]
    },
    {
     "name": "stdout",
     "output_type": "stream",
     "text": [
      " events indexed in current run_id\n",
      "run id recieved: 15003\n",
      "new index created: run15003\n",
      "processing events...\n",
      "123 events indexed in current run_id\n",
      "processing events...\n",
      "398 events indexed in current run_id\n",
      "processing events...\n",
      "767 events indexed in current run_id\n",
      "processing events...\n",
      "1330 events indexed in current run_id\n",
      "processing events...\n",
      "1397 events indexed in current run_id\n",
      "processing events...\n",
      "1953 events indexed in current run_id\n",
      "processing events...\n",
      "2138 events indexed in current run_id\n",
      "processing events...\n",
      "2431 events indexed in current run_id\n",
      "processing events...\n",
      "3066 events indexed in current run_id\n",
      "processing events...\n",
      "3528 events indexed in current run_id\n",
      "processing events...\n"
     ]
    },
    {
     "ename": "KeyboardInterrupt",
     "evalue": "",
     "output_type": "error",
     "traceback": [
      "\u001b[1;31m---------------------------------------------------------------------------\u001b[0m",
      "\u001b[1;31mKeyboardInterrupt\u001b[0m                         Traceback (most recent call last)",
      "\u001b[1;32m<ipython-input-3-dadfcbcfa9cc>\u001b[0m in \u001b[0;36m<module>\u001b[1;34m()\u001b[0m\n\u001b[0;32m      1\u001b[0m \u001b[0minder\u001b[0m \u001b[1;33m=\u001b[0m \u001b[0mindexer\u001b[0m\u001b[1;33m.\u001b[0m\u001b[0mIndexer\u001b[0m\u001b[1;33m(\u001b[0m\u001b[0mverbose\u001b[0m\u001b[1;33m=\u001b[0m\u001b[0mTrue\u001b[0m\u001b[1;33m)\u001b[0m\u001b[1;33m\u001b[0m\u001b[0m\n\u001b[0;32m      2\u001b[0m \u001b[1;31m#начинаем складывать ивенты в индексы.\u001b[0m\u001b[1;33m\u001b[0m\u001b[1;33m\u001b[0m\u001b[0m\n\u001b[1;32m----> 3\u001b[1;33m \u001b[0minder\u001b[0m\u001b[1;33m.\u001b[0m\u001b[0mstart_indexing\u001b[0m\u001b[1;33m(\u001b[0m\u001b[1;33m)\u001b[0m\u001b[1;33m\u001b[0m\u001b[0m\n\u001b[0m",
      "\u001b[1;32m/notebooks/throw_events_upon_storage/indexer/indexer.pyc\u001b[0m in \u001b[0;36mstart_indexing\u001b[1;34m(self)\u001b[0m\n\u001b[0;32m     65\u001b[0m                          \u001b[0mdoc_type\u001b[0m\u001b[1;33m=\u001b[0m\u001b[1;34m\"event\"\u001b[0m\u001b[1;33m,\u001b[0m\u001b[1;33m\u001b[0m\u001b[0m\n\u001b[0;32m     66\u001b[0m                          \u001b[0mid\u001b[0m\u001b[1;33m=\u001b[0m\u001b[0mn_events_in_run\u001b[0m\u001b[1;33m,\u001b[0m\u001b[1;33m\u001b[0m\u001b[0m\n\u001b[1;32m---> 67\u001b[1;33m                          body=evt)\n\u001b[0m\u001b[0;32m     68\u001b[0m                 \u001b[0mn_events_in_run\u001b[0m\u001b[1;33m+=\u001b[0m\u001b[1;36m1\u001b[0m\u001b[1;33m\u001b[0m\u001b[0m\n\u001b[0;32m     69\u001b[0m \u001b[1;33m\u001b[0m\u001b[0m\n",
      "\u001b[1;32m/usr/local/lib/python2.7/dist-packages/elasticsearch/client/utils.pyc\u001b[0m in \u001b[0;36m_wrapped\u001b[1;34m(*args, **kwargs)\u001b[0m\n\u001b[0;32m     67\u001b[0m                 \u001b[1;32mif\u001b[0m \u001b[0mp\u001b[0m \u001b[1;32min\u001b[0m \u001b[0mkwargs\u001b[0m\u001b[1;33m:\u001b[0m\u001b[1;33m\u001b[0m\u001b[0m\n\u001b[0;32m     68\u001b[0m                     \u001b[0mparams\u001b[0m\u001b[1;33m[\u001b[0m\u001b[0mp\u001b[0m\u001b[1;33m]\u001b[0m \u001b[1;33m=\u001b[0m \u001b[0mkwargs\u001b[0m\u001b[1;33m.\u001b[0m\u001b[0mpop\u001b[0m\u001b[1;33m(\u001b[0m\u001b[0mp\u001b[0m\u001b[1;33m)\u001b[0m\u001b[1;33m\u001b[0m\u001b[0m\n\u001b[1;32m---> 69\u001b[1;33m             \u001b[1;32mreturn\u001b[0m \u001b[0mfunc\u001b[0m\u001b[1;33m(\u001b[0m\u001b[1;33m*\u001b[0m\u001b[0margs\u001b[0m\u001b[1;33m,\u001b[0m \u001b[0mparams\u001b[0m\u001b[1;33m=\u001b[0m\u001b[0mparams\u001b[0m\u001b[1;33m,\u001b[0m \u001b[1;33m**\u001b[0m\u001b[0mkwargs\u001b[0m\u001b[1;33m)\u001b[0m\u001b[1;33m\u001b[0m\u001b[0m\n\u001b[0m\u001b[0;32m     70\u001b[0m         \u001b[1;32mreturn\u001b[0m \u001b[0m_wrapped\u001b[0m\u001b[1;33m\u001b[0m\u001b[0m\n\u001b[0;32m     71\u001b[0m     \u001b[1;32mreturn\u001b[0m \u001b[0m_wrapper\u001b[0m\u001b[1;33m\u001b[0m\u001b[0m\n",
      "\u001b[1;32m/usr/local/lib/python2.7/dist-packages/elasticsearch/client/__init__.pyc\u001b[0m in \u001b[0;36mindex\u001b[1;34m(self, index, doc_type, body, id, params)\u001b[0m\n\u001b[0;32m    259\u001b[0m                 \u001b[1;32mraise\u001b[0m \u001b[0mValueError\u001b[0m\u001b[1;33m(\u001b[0m\u001b[1;34m\"Empty value passed for a required argument.\"\u001b[0m\u001b[1;33m)\u001b[0m\u001b[1;33m\u001b[0m\u001b[0m\n\u001b[0;32m    260\u001b[0m         _, data = self.transport.perform_request('POST' if id in SKIP_IN_PATH else 'PUT',\n\u001b[1;32m--> 261\u001b[1;33m             _make_path(index, doc_type, id), params=params, body=body)\n\u001b[0m\u001b[0;32m    262\u001b[0m         \u001b[1;32mreturn\u001b[0m \u001b[0mdata\u001b[0m\u001b[1;33m\u001b[0m\u001b[0m\n\u001b[0;32m    263\u001b[0m \u001b[1;33m\u001b[0m\u001b[0m\n",
      "\u001b[1;32m/usr/local/lib/python2.7/dist-packages/elasticsearch/transport.pyc\u001b[0m in \u001b[0;36mperform_request\u001b[1;34m(self, method, url, params, body)\u001b[0m\n\u001b[0;32m    305\u001b[0m \u001b[1;33m\u001b[0m\u001b[0m\n\u001b[0;32m    306\u001b[0m             \u001b[1;32mtry\u001b[0m\u001b[1;33m:\u001b[0m\u001b[1;33m\u001b[0m\u001b[0m\n\u001b[1;32m--> 307\u001b[1;33m                 \u001b[0mstatus\u001b[0m\u001b[1;33m,\u001b[0m \u001b[0mheaders\u001b[0m\u001b[1;33m,\u001b[0m \u001b[0mdata\u001b[0m \u001b[1;33m=\u001b[0m \u001b[0mconnection\u001b[0m\u001b[1;33m.\u001b[0m\u001b[0mperform_request\u001b[0m\u001b[1;33m(\u001b[0m\u001b[0mmethod\u001b[0m\u001b[1;33m,\u001b[0m \u001b[0murl\u001b[0m\u001b[1;33m,\u001b[0m \u001b[0mparams\u001b[0m\u001b[1;33m,\u001b[0m \u001b[0mbody\u001b[0m\u001b[1;33m,\u001b[0m \u001b[0mignore\u001b[0m\u001b[1;33m=\u001b[0m\u001b[0mignore\u001b[0m\u001b[1;33m,\u001b[0m \u001b[0mtimeout\u001b[0m\u001b[1;33m=\u001b[0m\u001b[0mtimeout\u001b[0m\u001b[1;33m)\u001b[0m\u001b[1;33m\u001b[0m\u001b[0m\n\u001b[0m\u001b[0;32m    308\u001b[0m \u001b[1;33m\u001b[0m\u001b[0m\n\u001b[0;32m    309\u001b[0m             \u001b[1;32mexcept\u001b[0m \u001b[0mTransportError\u001b[0m \u001b[1;32mas\u001b[0m \u001b[0me\u001b[0m\u001b[1;33m:\u001b[0m\u001b[1;33m\u001b[0m\u001b[0m\n",
      "\u001b[1;32m/usr/local/lib/python2.7/dist-packages/elasticsearch/connection/http_urllib3.pyc\u001b[0m in \u001b[0;36mperform_request\u001b[1;34m(self, method, url, params, body, timeout, ignore)\u001b[0m\n\u001b[0;32m     76\u001b[0m                 \u001b[0mmethod\u001b[0m \u001b[1;33m=\u001b[0m \u001b[0mmethod\u001b[0m\u001b[1;33m.\u001b[0m\u001b[0mencode\u001b[0m\u001b[1;33m(\u001b[0m\u001b[1;34m'utf-8'\u001b[0m\u001b[1;33m)\u001b[0m\u001b[1;33m\u001b[0m\u001b[0m\n\u001b[0;32m     77\u001b[0m \u001b[1;33m\u001b[0m\u001b[0m\n\u001b[1;32m---> 78\u001b[1;33m             \u001b[0mresponse\u001b[0m \u001b[1;33m=\u001b[0m \u001b[0mself\u001b[0m\u001b[1;33m.\u001b[0m\u001b[0mpool\u001b[0m\u001b[1;33m.\u001b[0m\u001b[0murlopen\u001b[0m\u001b[1;33m(\u001b[0m\u001b[0mmethod\u001b[0m\u001b[1;33m,\u001b[0m \u001b[0murl\u001b[0m\u001b[1;33m,\u001b[0m \u001b[0mbody\u001b[0m\u001b[1;33m,\u001b[0m \u001b[0mretries\u001b[0m\u001b[1;33m=\u001b[0m\u001b[0mFalse\u001b[0m\u001b[1;33m,\u001b[0m \u001b[0mheaders\u001b[0m\u001b[1;33m=\u001b[0m\u001b[0mself\u001b[0m\u001b[1;33m.\u001b[0m\u001b[0mheaders\u001b[0m\u001b[1;33m,\u001b[0m \u001b[1;33m**\u001b[0m\u001b[0mkw\u001b[0m\u001b[1;33m)\u001b[0m\u001b[1;33m\u001b[0m\u001b[0m\n\u001b[0m\u001b[0;32m     79\u001b[0m             \u001b[0mduration\u001b[0m \u001b[1;33m=\u001b[0m \u001b[0mtime\u001b[0m\u001b[1;33m.\u001b[0m\u001b[0mtime\u001b[0m\u001b[1;33m(\u001b[0m\u001b[1;33m)\u001b[0m \u001b[1;33m-\u001b[0m \u001b[0mstart\u001b[0m\u001b[1;33m\u001b[0m\u001b[0m\n\u001b[0;32m     80\u001b[0m             \u001b[0mraw_data\u001b[0m \u001b[1;33m=\u001b[0m \u001b[0mresponse\u001b[0m\u001b[1;33m.\u001b[0m\u001b[0mdata\u001b[0m\u001b[1;33m.\u001b[0m\u001b[0mdecode\u001b[0m\u001b[1;33m(\u001b[0m\u001b[1;34m'utf-8'\u001b[0m\u001b[1;33m)\u001b[0m\u001b[1;33m\u001b[0m\u001b[0m\n",
      "\u001b[1;32m/usr/local/lib/python2.7/dist-packages/urllib3/connectionpool.pyc\u001b[0m in \u001b[0;36murlopen\u001b[1;34m(self, method, url, body, headers, retries, redirect, assert_same_host, timeout, pool_timeout, release_conn, **response_kw)\u001b[0m\n\u001b[0;32m    569\u001b[0m                                                  \u001b[0mpool\u001b[0m\u001b[1;33m=\u001b[0m\u001b[0mself\u001b[0m\u001b[1;33m,\u001b[0m\u001b[1;33m\u001b[0m\u001b[0m\n\u001b[0;32m    570\u001b[0m                                                  \u001b[0mconnection\u001b[0m\u001b[1;33m=\u001b[0m\u001b[0mresponse_conn\u001b[0m\u001b[1;33m,\u001b[0m\u001b[1;33m\u001b[0m\u001b[0m\n\u001b[1;32m--> 571\u001b[1;33m                                                  **response_kw)\n\u001b[0m\u001b[0;32m    572\u001b[0m \u001b[1;33m\u001b[0m\u001b[0m\n\u001b[0;32m    573\u001b[0m             \u001b[1;31m# else:\u001b[0m\u001b[1;33m\u001b[0m\u001b[1;33m\u001b[0m\u001b[0m\n",
      "\u001b[1;32m/usr/local/lib/python2.7/dist-packages/urllib3/response.pyc\u001b[0m in \u001b[0;36mfrom_httplib\u001b[1;34m(ResponseCls, r, **response_kw)\u001b[0m\n\u001b[0;32m    344\u001b[0m                 \u001b[0mheaders\u001b[0m \u001b[1;33m=\u001b[0m \u001b[0mHTTPHeaderDict\u001b[0m\u001b[1;33m(\u001b[0m\u001b[0mheaders\u001b[0m\u001b[1;33m.\u001b[0m\u001b[0mitems\u001b[0m\u001b[1;33m(\u001b[0m\u001b[1;33m)\u001b[0m\u001b[1;33m)\u001b[0m\u001b[1;33m\u001b[0m\u001b[0m\n\u001b[0;32m    345\u001b[0m             \u001b[1;32melse\u001b[0m\u001b[1;33m:\u001b[0m \u001b[1;31m# Python 2\u001b[0m\u001b[1;33m\u001b[0m\u001b[0m\n\u001b[1;32m--> 346\u001b[1;33m                 \u001b[0mheaders\u001b[0m \u001b[1;33m=\u001b[0m \u001b[0mHTTPHeaderDict\u001b[0m\u001b[1;33m.\u001b[0m\u001b[0mfrom_httplib\u001b[0m\u001b[1;33m(\u001b[0m\u001b[0mheaders\u001b[0m\u001b[1;33m)\u001b[0m\u001b[1;33m\u001b[0m\u001b[0m\n\u001b[0m\u001b[0;32m    347\u001b[0m \u001b[1;33m\u001b[0m\u001b[0m\n\u001b[0;32m    348\u001b[0m         \u001b[1;31m# HTTPResponse objects in Python 3 don't have a .strict attribute\u001b[0m\u001b[1;33m\u001b[0m\u001b[1;33m\u001b[0m\u001b[0m\n",
      "\u001b[1;32m/usr/local/lib/python2.7/dist-packages/urllib3/_collections.pyc\u001b[0m in \u001b[0;36mfrom_httplib\u001b[1;34m(cls, message)\u001b[0m\n\u001b[0;32m    321\u001b[0m             \u001b[0mheaders\u001b[0m\u001b[1;33m.\u001b[0m\u001b[0mappend\u001b[0m\u001b[1;33m(\u001b[0m\u001b[1;33m(\u001b[0m\u001b[0mkey\u001b[0m\u001b[1;33m,\u001b[0m \u001b[0mvalue\u001b[0m\u001b[1;33m.\u001b[0m\u001b[0mstrip\u001b[0m\u001b[1;33m(\u001b[0m\u001b[1;33m)\u001b[0m\u001b[1;33m)\u001b[0m\u001b[1;33m)\u001b[0m\u001b[1;33m\u001b[0m\u001b[0m\n\u001b[0;32m    322\u001b[0m \u001b[1;33m\u001b[0m\u001b[0m\n\u001b[1;32m--> 323\u001b[1;33m         \u001b[1;32mreturn\u001b[0m \u001b[0mcls\u001b[0m\u001b[1;33m(\u001b[0m\u001b[0mheaders\u001b[0m\u001b[1;33m)\u001b[0m\u001b[1;33m\u001b[0m\u001b[0m\n\u001b[0m",
      "\u001b[1;32m/usr/local/lib/python2.7/dist-packages/urllib3/_collections.pyc\u001b[0m in \u001b[0;36m__init__\u001b[1;34m(self, headers, **kwargs)\u001b[0m\n\u001b[0;32m    136\u001b[0m         \u001b[0mself\u001b[0m\u001b[1;33m.\u001b[0m\u001b[0m_container\u001b[0m \u001b[1;33m=\u001b[0m \u001b[1;33m{\u001b[0m\u001b[1;33m}\u001b[0m\u001b[1;33m\u001b[0m\u001b[0m\n\u001b[0;32m    137\u001b[0m         \u001b[1;32mif\u001b[0m \u001b[0mheaders\u001b[0m \u001b[1;32mis\u001b[0m \u001b[1;32mnot\u001b[0m \u001b[0mNone\u001b[0m\u001b[1;33m:\u001b[0m\u001b[1;33m\u001b[0m\u001b[0m\n\u001b[1;32m--> 138\u001b[1;33m             \u001b[1;32mif\u001b[0m \u001b[0misinstance\u001b[0m\u001b[1;33m(\u001b[0m\u001b[0mheaders\u001b[0m\u001b[1;33m,\u001b[0m \u001b[0mHTTPHeaderDict\u001b[0m\u001b[1;33m)\u001b[0m\u001b[1;33m:\u001b[0m\u001b[1;33m\u001b[0m\u001b[0m\n\u001b[0m\u001b[0;32m    139\u001b[0m                 \u001b[0mself\u001b[0m\u001b[1;33m.\u001b[0m\u001b[0m_copy_from\u001b[0m\u001b[1;33m(\u001b[0m\u001b[0mheaders\u001b[0m\u001b[1;33m)\u001b[0m\u001b[1;33m\u001b[0m\u001b[0m\n\u001b[0;32m    140\u001b[0m             \u001b[1;32melse\u001b[0m\u001b[1;33m:\u001b[0m\u001b[1;33m\u001b[0m\u001b[0m\n",
      "\u001b[1;32m/usr/lib/python2.7/abc.pyc\u001b[0m in \u001b[0;36m__instancecheck__\u001b[1;34m(cls, instance)\u001b[0m\n\u001b[0;32m    129\u001b[0m         \u001b[1;34m\"\"\"Override for isinstance(instance, cls).\"\"\"\u001b[0m\u001b[1;33m\u001b[0m\u001b[0m\n\u001b[0;32m    130\u001b[0m         \u001b[1;31m# Inline the cache checking when it's simple.\u001b[0m\u001b[1;33m\u001b[0m\u001b[1;33m\u001b[0m\u001b[0m\n\u001b[1;32m--> 131\u001b[1;33m         \u001b[0msubclass\u001b[0m \u001b[1;33m=\u001b[0m \u001b[0mgetattr\u001b[0m\u001b[1;33m(\u001b[0m\u001b[0minstance\u001b[0m\u001b[1;33m,\u001b[0m \u001b[1;34m'__class__'\u001b[0m\u001b[1;33m,\u001b[0m \u001b[0mNone\u001b[0m\u001b[1;33m)\u001b[0m\u001b[1;33m\u001b[0m\u001b[0m\n\u001b[0m\u001b[0;32m    132\u001b[0m         \u001b[1;32mif\u001b[0m \u001b[0msubclass\u001b[0m \u001b[1;32mis\u001b[0m \u001b[1;32mnot\u001b[0m \u001b[0mNone\u001b[0m \u001b[1;32mand\u001b[0m \u001b[0msubclass\u001b[0m \u001b[1;32min\u001b[0m \u001b[0mcls\u001b[0m\u001b[1;33m.\u001b[0m\u001b[0m_abc_cache\u001b[0m\u001b[1;33m:\u001b[0m\u001b[1;33m\u001b[0m\u001b[0m\n\u001b[0;32m    133\u001b[0m             \u001b[1;32mreturn\u001b[0m \u001b[0mTrue\u001b[0m\u001b[1;33m\u001b[0m\u001b[0m\n",
      "\u001b[1;31mKeyboardInterrupt\u001b[0m: "
     ]
    }
   ],
   "source": [
    "inder = indexer.Indexer(verbose=True)\n",
    "#начинаем складывать ивенты в индексы. \n",
    "inder.start_indexing()"
   ]
  },
  {
   "cell_type": "markdown",
   "metadata": {},
   "source": [
    "#Web-presenter\n",
    "* может выводить произвольный набор из графиков и HTMLя\n",
    "* wev написан на mpld3 + flask\n",
    "* после запуска выглядывает из http://localhost:5000\n",
    "* на хромбуке на 2 гистограммы по ~10^5 точек и 2 хитмапа по ~10^5 пар точек строились за ~1.1 секунду"
   ]
  },
  {
   "cell_type": "code",
   "execution_count": 4,
   "metadata": {
    "collapsed": false
   },
   "outputs": [
    {
     "data": {
      "text/plain": [
       "0"
      ]
     },
     "execution_count": 4,
     "metadata": {},
     "output_type": "execute_result"
    }
   ],
   "source": [
    "#запуск сервера (flask + mpld3)\n",
    "os.system(\"cd presenter && python routes.py &\")"
   ]
  },
  {
   "cell_type": "code",
   "execution_count": 5,
   "metadata": {
    "collapsed": false
   },
   "outputs": [
    {
     "data": {
      "text/html": [
       "<a target=\"_blank\" href=\"http://localhost:5000\">web-presenter(local)</a>"
      ],
      "text/plain": [
       "<IPython.core.display.HTML object>"
      ]
     },
     "execution_count": 5,
     "metadata": {},
     "output_type": "execute_result"
    }
   ],
   "source": [
    "from IPython.core.display import HTML\n",
    "HTML('<a target=\"_blank\" href=\"http://localhost:5000\">web-presenter(local)</a>')"
   ]
  },
  {
   "cell_type": "markdown",
   "metadata": {},
   "source": [
    "###Event mapping\n",
    "* каждое событие пишется в индекс внутри ElasticSearch\n",
    "* id события - порядковый номер его получения внутри run_id (todo: мб eventNumber?)\n",
    "* маппинг события теперь имеет 100 Очень Осмысленных полей (сампл с рандомной гистограммы):"
   ]
  },
  {
   "cell_type": "code",
   "execution_count": 6,
   "metadata": {
    "collapsed": false
   },
   "outputs": [
    {
     "data": {
      "text/plain": [
       "103"
      ]
     },
     "execution_count": 6,
     "metadata": {},
     "output_type": "execute_result"
    }
   ],
   "source": [
    "import indexer.event as event\n",
    "len(event.es_event_mapping['properties'])"
   ]
  },
  {
   "cell_type": "markdown",
   "metadata": {},
   "source": [
    "###Howto use kibana directly:\n",
    "* kibana висит на http://localhost:5601\n",
    "* После первого запуска кибана попросит Configure an index pattern\n",
    " * убрать галочку index contains time-based events\n",
    " * поставить дефолтный паттерн * (или просто по вкусу), \n",
    " * нажать \"Create\"\n",
    "* Как построить простую гистограмму\n",
    " * наверху тык Visualize -> Vertical Bar Chart -> from new search\n",
    " * в buckets тык X Axis; \n",
    " * Aggregation <- Histogram\n",
    " * Field <- интересующее поле (например, muonHits)\n",
    " * Interval <- 1 (или сколько хочется отдать по X на 1 бин гистограммы)\n",
    " * тык зелёную кнопку Play (треугольник) выше\n",
    "* а вообще https://www.elastic.co/guide/en/kibana/current/getting-started.html\n"
   ]
  },
  {
   "cell_type": "markdown",
   "metadata": {},
   "source": [
    "#ipython visualization"
   ]
  },
  {
   "cell_type": "code",
   "execution_count": 7,
   "metadata": {
    "collapsed": false
   },
   "outputs": [],
   "source": [
    "import elasticsearch\n",
    "import presenter.visualize as visualize\n",
    "%matplotlib inline\n",
    "es = elasticsearch.Elasticsearch([\"localhost:9200\"])"
   ]
  },
  {
   "cell_type": "code",
   "execution_count": 8,
   "metadata": {
    "collapsed": false
   },
   "outputs": [
    {
     "name": "stdout",
     "output_type": "stream",
     "text": [
      "CPU times: user 152 ms, sys: 8 ms, total: 160 ms\n",
      "Wall time: 250 ms\n"
     ]
    },
    {
     "data": {
      "image/png": "[encoded data removed]",
      "text/plain": [
       "<matplotlib.figure.Figure at 0x7f3011bcfb50>"
      ]
     },
     "metadata": {},
     "output_type": "display_data"
    }
   ],
   "source": [
    "%%time\n",
    "_=visualize.plot_1d_hist(\"avgMass\",0,70,100,es,\"run*\")"
   ]
  },
  {
   "cell_type": "code",
   "execution_count": 9,
   "metadata": {
    "collapsed": false
   },
   "outputs": [
    {
     "name": "stdout",
     "output_type": "stream",
     "text": [
      "CPU times: user 56 ms, sys: 0 ns, total: 56 ms\n",
      "Wall time: 202 ms\n"
     ]
    },
    {
     "data": {
      "image/png": "[encoded data removed]",
      "text/plain": [
       "<matplotlib.figure.Figure at 0x7f3010158e50>"
      ]
     },
     "metadata": {},
     "output_type": "display_data"
    }
   ],
   "source": [
    "%%time\n",
    "xmin,xmax = 0,65\n",
    "xbins = 20\n",
    "xname = \"hcalEnergy\"\n",
    "ymin,ymax = 0,65\n",
    "ybins = 20\n",
    "yname = \"muonHits\"\n",
    "_=visualize.plot_2d_hist(xname,xmin,xmax,xbins,yname,ymin,ymax,ybins,es,index=\"run*\")\n"
   ]
  }
 ],
 "metadata": {
  "kernelspec": {
   "display_name": "Python 2",
   "language": "python",
   "name": "python2"
  },
  "language_info": {
   "codemirror_mode": {
    "name": "ipython",
    "version": 2
   },
   "file_extension": ".py",
   "mimetype": "text/x-python",
   "name": "python",
   "nbconvert_exporter": "python",
   "pygments_lexer": "ipython2",
   "version": "2.7.6"
  }
 },
 "nbformat": 4,
 "nbformat_minor": 0
}
